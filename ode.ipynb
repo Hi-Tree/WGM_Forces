{
 "cells": [
  {
   "cell_type": "code",
   "execution_count": 2,
   "source": [
    "import numpy as np\n",
    "from pandas.core.frame import DataFrame\n",
    "import forces\n",
    "from scipy.integrate import odeint\n",
    "from scipy.stats import maxwell \n",
    "import matplotlib.pyplot as plt\n",
    "import pandas as pd\n",
    "import seaborn as sns"
   ],
   "outputs": [],
   "metadata": {}
  },
  {
   "cell_type": "markdown",
   "source": [
    "<h2 style=\"color:orange\">Function to create N randomized particles</h2>"
   ],
   "metadata": {}
  },
  {
   "cell_type": "code",
   "execution_count": 4,
   "source": [
    "#Initial Velocities \n",
    "#drho = v_x*np.sin(theta)*np.cos(phi)+v_y*np.sin(theta)*np.sin(phi)+v_z*np.cos(theta)\n",
    "#dtheta = v_x*np.cos(theta)*np.cos(phi)+v_y*np.cos(theta)*np.sin(phi)-v_z*np.sin(theta)\n",
    "#dphi = v_y*np.cos(phi)-v_x*np.sin(phi) \n",
    "\n",
    "# make the randomzed optimize later, add other velocities\n",
    "\n",
    "check = []\n",
    "par = {\n",
    "            'l': 40,\n",
    "            'x_r': 39.107,            \n",
    "            'Rr': 5.6e-5, \n",
    "            'Rp':7.5e-7,\n",
    "            'R_ratio':0,\n",
    "            'n_w': 1.326,\n",
    "            'n_p': 1.572\n",
    "            }"
   ],
   "outputs": [],
   "metadata": {}
  },
  {
   "cell_type": "code",
   "execution_count": 5,
   "source": [
    "lambd = 2*np.pi*par['Rr']/par['x_r']       #lamb = 2*pi / k where k = x/Rr\n",
    "M = (4/3) * np.pi * (par['Rp']**3) *1040   #where density of silica is 1040\n",
    "tao = 0.00048528                           #value obtained from mathematica\n",
    "kbt = 1.38064852e-23 * 300                 #value is in eV\n",
    "alpha = 7.02158e-14\n",
    "stdevTildaV = (4*kbt*(par['Rr']**3))/(3*(2.92291e-8)*(par['Rp']**3)*lambd)\n",
    "vavgTilda = np.sqrt(stdevTildaV)\n",
    "\n",
    "eta = (0.00700175*M)/(vavgTilda*6*np.pi*(par['Rp'])*tao)#Eta is for Average Rp and Average velocity for all cartesian directions"
   ],
   "outputs": [],
   "metadata": {}
  },
  {
   "cell_type": "code",
   "execution_count": 9,
   "source": [
    "def rand(N):\n",
    "    Results = pd.DataFrame(columns=['rand_x','rand_y','rand_z','rho_','theta_','phi_','dRho_','dTheta_','dPhi_','Rp_','gamma_','time_'])\n",
    "    vx=-0.001421\n",
    "    vy=0.006615\n",
    "    vz=0.00112\n",
    "    rho=39.351469\n",
    "    theta=1.654382\n",
    "    phi=4.081736\n",
    "    drho=-0.004582\n",
    "    dtheta = vx*np.cos(theta)*np.cos(phi)+vy*np.cos(theta)*np.sin(phi)-vz*np.sin(theta)\n",
    "    dphi = vy*np.cos(phi)-vx*np.sin(phi)\n",
    "    Rp = np.linspace(7.5*10**(-7) - 3.75*10**(-8), 7.5*10**(-7) + 3.75*10**(-8),N)\n",
    "    m = (4/3) * np.pi * (Rp**3) *1040\n",
    "    gamma = (6 * np.pi * eta * tao * Rp)/m\n",
    "    while Results.count()[0] != N:\n",
    "        Results = pd.concat([pd.DataFrame([[vx, vy, vz, rho, theta, phi, drho, dtheta, dphi, None, None, None]],columns = Results.columns),Results],ignore_index = True)\n",
    "    Results['Rp_']=Rp\n",
    "    Results['gamma_']=gamma\n",
    "    return Results\n"
   ],
   "outputs": [],
   "metadata": {}
  },
  {
   "cell_type": "code",
   "execution_count": 10,
   "source": [
    "rand(4)"
   ],
   "outputs": [
    {
     "output_type": "execute_result",
     "data": {
      "text/html": [
       "<div>\n",
       "<style scoped>\n",
       "    .dataframe tbody tr th:only-of-type {\n",
       "        vertical-align: middle;\n",
       "    }\n",
       "\n",
       "    .dataframe tbody tr th {\n",
       "        vertical-align: top;\n",
       "    }\n",
       "\n",
       "    .dataframe thead th {\n",
       "        text-align: right;\n",
       "    }\n",
       "</style>\n",
       "<table border=\"1\" class=\"dataframe\">\n",
       "  <thead>\n",
       "    <tr style=\"text-align: right;\">\n",
       "      <th></th>\n",
       "      <th>rand_x</th>\n",
       "      <th>rand_y</th>\n",
       "      <th>rand_z</th>\n",
       "      <th>rho_</th>\n",
       "      <th>theta_</th>\n",
       "      <th>phi_</th>\n",
       "      <th>dRho_</th>\n",
       "      <th>dTheta_</th>\n",
       "      <th>dPhi_</th>\n",
       "      <th>Rp_</th>\n",
       "      <th>gamma_</th>\n",
       "      <th>time_</th>\n",
       "    </tr>\n",
       "  </thead>\n",
       "  <tbody>\n",
       "    <tr>\n",
       "      <th>0</th>\n",
       "      <td>-0.001421</td>\n",
       "      <td>0.006615</td>\n",
       "      <td>0.00112</td>\n",
       "      <td>39.351469</td>\n",
       "      <td>1.654382</td>\n",
       "      <td>4.081736</td>\n",
       "      <td>-0.004582</td>\n",
       "      <td>-0.00074</td>\n",
       "      <td>-0.005048</td>\n",
       "      <td>7.125000e-07</td>\n",
       "      <td>0.082978</td>\n",
       "      <td>None</td>\n",
       "    </tr>\n",
       "    <tr>\n",
       "      <th>1</th>\n",
       "      <td>-0.001421</td>\n",
       "      <td>0.006615</td>\n",
       "      <td>0.00112</td>\n",
       "      <td>39.351469</td>\n",
       "      <td>1.654382</td>\n",
       "      <td>4.081736</td>\n",
       "      <td>-0.004582</td>\n",
       "      <td>-0.00074</td>\n",
       "      <td>-0.005048</td>\n",
       "      <td>7.375000e-07</td>\n",
       "      <td>0.077448</td>\n",
       "      <td>None</td>\n",
       "    </tr>\n",
       "    <tr>\n",
       "      <th>2</th>\n",
       "      <td>-0.001421</td>\n",
       "      <td>0.006615</td>\n",
       "      <td>0.00112</td>\n",
       "      <td>39.351469</td>\n",
       "      <td>1.654382</td>\n",
       "      <td>4.081736</td>\n",
       "      <td>-0.004582</td>\n",
       "      <td>-0.00074</td>\n",
       "      <td>-0.005048</td>\n",
       "      <td>7.625000e-07</td>\n",
       "      <td>0.072452</td>\n",
       "      <td>None</td>\n",
       "    </tr>\n",
       "    <tr>\n",
       "      <th>3</th>\n",
       "      <td>-0.001421</td>\n",
       "      <td>0.006615</td>\n",
       "      <td>0.00112</td>\n",
       "      <td>39.351469</td>\n",
       "      <td>1.654382</td>\n",
       "      <td>4.081736</td>\n",
       "      <td>-0.004582</td>\n",
       "      <td>-0.00074</td>\n",
       "      <td>-0.005048</td>\n",
       "      <td>7.875000e-07</td>\n",
       "      <td>0.067925</td>\n",
       "      <td>None</td>\n",
       "    </tr>\n",
       "  </tbody>\n",
       "</table>\n",
       "</div>"
      ],
      "text/plain": [
       "     rand_x    rand_y   rand_z       rho_    theta_      phi_     dRho_  \\\n",
       "0 -0.001421  0.006615  0.00112  39.351469  1.654382  4.081736 -0.004582   \n",
       "1 -0.001421  0.006615  0.00112  39.351469  1.654382  4.081736 -0.004582   \n",
       "2 -0.001421  0.006615  0.00112  39.351469  1.654382  4.081736 -0.004582   \n",
       "3 -0.001421  0.006615  0.00112  39.351469  1.654382  4.081736 -0.004582   \n",
       "\n",
       "   dTheta_     dPhi_           Rp_    gamma_ time_  \n",
       "0 -0.00074 -0.005048  7.125000e-07  0.082978  None  \n",
       "1 -0.00074 -0.005048  7.375000e-07  0.077448  None  \n",
       "2 -0.00074 -0.005048  7.625000e-07  0.072452  None  \n",
       "3 -0.00074 -0.005048  7.875000e-07  0.067925  None  "
      ]
     },
     "metadata": {},
     "execution_count": 10
    }
   ],
   "metadata": {}
  },
  {
   "cell_type": "code",
   "execution_count": 152,
   "source": [
    "def randomized(N):\n",
    "    Results = pd.DataFrame(columns=['rand_x','rand_y','rand_z','rho_','theta_','phi_','dRho_','dTheta_','dPhi_','Rp_','gamma_','time_'])\n",
    "    while Results.count()[0] != N:\n",
    "        Rp = np.random.uniform(7.5*10**(-7) - 3.75*10**(-8), 7.5*10**(-7) + 3.75*10**(-8))\n",
    "        #random positions\n",
    "        rho = np.random.uniform(39.107+Rp,39.107+(2*np.pi))\n",
    "        theta = np.random.uniform(((np.pi/2)-np.sqrt(1/40)),((np.pi/2)+np.sqrt(1/40)))\n",
    "        phi = np.random.uniform(0,np.pi*2)\n",
    "        #random velocities\n",
    "        vx = np.random.normal(0,stdevTildaV)\n",
    "        vy = np.random.normal(0,stdevTildaV)\n",
    "        vz = np.random.normal(0,stdevTildaV)\n",
    "        #rhop is density, \n",
    "\n",
    "        m = (4/3) * np.pi * (Rp**3) *1040\n",
    "        gamma = (6 * np.pi * eta * tao * Rp)/m #gamma tilde, average tao not sepcific to size\n",
    "        dtheta = vx*np.cos(theta)*np.cos(phi)+vy*np.cos(theta)*np.sin(phi)-vz*np.sin(theta)\n",
    "        dphi = vy*np.cos(phi)-vx*np.sin(phi)\n",
    "        dRhodT = vx*np.sin(theta)*np.cos(phi)+vy*np.sin(theta)*np.sin(phi)+vz*np.cos(theta) #vrho \n",
    "        Results = pd.concat([pd.DataFrame([[vx, vy, vz, rho, theta, phi, dRhodT, dtheta, dphi, Rp, gamma, None]],columns = Results.columns),Results],ignore_index = True)\n",
    "    return Results"
   ],
   "outputs": [],
   "metadata": {}
  },
  {
   "cell_type": "markdown",
   "source": [
    "<h2 style=\"color:deeppink\">ODE Solver Function</h2>"
   ],
   "metadata": {}
  },
  {
   "cell_type": "code",
   "execution_count": 11,
   "source": [
    "TC = []\n",
    "def f(u, t, par, gamma,Rp):\n",
    "    rho, drho, theta, dtheta, phi, dphi = u     \n",
    "    dudt = [\n",
    "                drho, forces.rho(rho, theta, par) - gamma * drho + rho * (dtheta * np.cos(phi)) ** 2 + rho * dphi ** 2,\n",
    "                dtheta, (forces.theta(rho, theta, par) - gamma * rho * dtheta * np.cos(phi) - 2 * drho * dtheta * np.cos(phi) + 2 * rho * dtheta * dphi * np.sin(phi)) / (rho * np.cos(phi)),\n",
    "                dphi, (forces.phi(rho, theta, par) - gamma * rho * dphi - 2 * drho * dphi - rho * dphi ** 2 * np.sin(phi) * np.cos(phi)) / rho\n",
    "            ]\n",
    "    return dudt"
   ],
   "outputs": [],
   "metadata": {}
  },
  {
   "cell_type": "markdown",
   "source": [
    "<span style=\"color:red\">Automates solution for multiple particles</span>"
   ],
   "metadata": {}
  },
  {
   "cell_type": "code",
   "execution_count": 17,
   "source": [
    "\n",
    "def solve(Results):\n",
    "    k = pd.DataFrame(columns=[\"rho\", \"time\",\"Rp_\"])\n",
    "    g = pd.DataFrame(columns=[\"rho\", \"time\",\"Rp_\"])\n",
    "\n",
    "    j = 0\n",
    "    time = np.linspace(0,50,500)\n",
    "    while j != len(Results.index):\n",
    "        gamma_ = Results['gamma_'][j]\n",
    "        Rp_ = Results['Rp_'][j]\n",
    "        par['R_ratio'] = Rp_/(5.6*10**(-5))  \n",
    "        u0 = [Results['rho_'][j],Results['dRho_'][j], Results['theta_'][j], Results['dTheta_'][j], Results['phi_'][j], Results['dPhi_'][j]]\n",
    "        sol = odeint(f, u0, time, args = (par, gamma_,Rp_))\n",
    "        \n",
    "        k[\"rho\"] = sol[:,0]\n",
    "        k[\"time\"] = time\n",
    "        k[\"Rp_\"] = [Rp_]*500\n",
    "        k = k[k.rho <= 39.107+Rp_].head(1)\n",
    "        g = pd.concat([k, g],ignore_index = True)\n",
    "        k = pd.DataFrame(columns=[\"rho\", \"time\",\"Rp_\"])\n",
    "        \n",
    "        j+=1\n",
    "    return [g,sol,time]\n"
   ],
   "outputs": [],
   "metadata": {}
  },
  {
   "cell_type": "code",
   "execution_count": 161,
   "source": [
    "#10 runs of 100 solutions pick top 10 fastest in each case and make histogram \n",
    "Res = pd.DataFrame(columns=['rho','time','Rp_'])\n",
    "Res2 = pd.DataFrame(columns=['rho','time','Rp_'])\n",
    "Res3 = pd.DataFrame(columns=['rand_x','rand_y','rand_z','rho_','theta_','phi_','dRho_','dTheta_','dPhi_','Rp_','gamma_','time_'])\n",
    "for i in range(100):\n",
    "    F = randomized(100)\n",
    "    g = solve(F)\n",
    "    z = solve(F)[0].sort_values('time')\n",
    "    top = z.head(1)\n",
    "    Res = pd.concat([top, Res],ignore_index = True)\n",
    "    Res2 = pd.concat([z, Res2],ignore_index = True)\n",
    "    Res3 = pd.concat([F, Res3],ignore_index = True)\n",
    "\n"
   ],
   "outputs": [],
   "metadata": {}
  },
  {
   "cell_type": "code",
   "execution_count": 154,
   "source": [
    "plt.rcParams[\"figure.autolayout\"] = True\n",
    "\n",
    "fig, axes = plt.subplots(1, 2)\n",
    "axes[0].set_xlabel(\"Radius of the particle\")\n",
    "axes[1].set_xlabel(\"Radius of the particle\")\n",
    "axes[0].set_title(\"Size distribution of all particles\")\n",
    "axes[1].set_title(\"Size distribution of particles \\n that landed on the resonator first\")\n",
    "sns.histplot(data = Res, x = 'Rp_', ax=axes[1])\n",
    "sns.histplot(data = Res3, x = 'Rp_', ax=axes[0])\n",
    "plt.show()"
   ],
   "outputs": [
    {
     "output_type": "display_data",
     "data": {
      "image/png": "[encoded data removed]",
      "text/plain": [
       "<Figure size 432x288 with 2 Axes>"
      ]
     },
     "metadata": {
      "needs_background": "light"
     }
    }
   ],
   "metadata": {}
  },
  {
   "cell_type": "code",
   "execution_count": 71,
   "source": [
    "Res.to_csv('TheOnesThatReachedFirst44.csv')\n",
    "Res2.to_csv('TheOnesThatReachedFromTheTotal44.csv')\n",
    "Res3.to_csv('TotalRandomGeneratedData44.csv')"
   ],
   "outputs": [],
   "metadata": {}
  },
  {
   "cell_type": "markdown",
   "source": [
    "<h2 style=\"color:green\">Individual Trajectories</h2>"
   ],
   "metadata": {}
  },
  {
   "cell_type": "code",
   "execution_count": 95,
   "source": [
    "\n",
    "s = randomized(1)\n",
    "z = solve(s)\n",
    "plt.plot(z[2], z[1][:,0])\n",
    "plt.show()\n"
   ],
   "outputs": [
    {
     "output_type": "display_data",
     "data": {
      "image/png": "[encoded data removed]",
      "text/plain": [
       "<Figure size 432x288 with 1 Axes>"
      ]
     },
     "metadata": {
      "needs_background": "light"
     }
    }
   ],
   "metadata": {}
  },
  {
   "cell_type": "code",
   "execution_count": 18,
   "source": [
    "F = rand(10)\n",
    "z = solve(F)[0]\n",
    "plt.plot(z[\"Rp_\"],z[\"time\"],\".\")\n",
    "plt.title(\"Rp vs. Arrival Time with\\nconstant positional variables\")\n",
    "plt.xlabel(\"Rp - particle size\")\n",
    "plt.ylabel(\"Time of arrival\")"
   ],
   "outputs": [
    {
     "output_type": "execute_result",
     "data": {
      "text/plain": [
       "Text(0, 0.5, 'Time of arrival')"
      ]
     },
     "metadata": {},
     "execution_count": 18
    },
    {
     "output_type": "display_data",
     "data": {
      "image/png": "[encoded data removed]",
      "text/plain": [
       "<Figure size 432x288 with 1 Axes>"
      ]
     },
     "metadata": {
      "needs_background": "light"
     }
    }
   ],
   "metadata": {}
  }
 ],
 "metadata": {
  "orig_nbformat": 4,
  "language_info": {
   "name": "python",
   "version": "3.9.7",
   "mimetype": "text/x-python",
   "codemirror_mode": {
    "name": "ipython",
    "version": 3
   },
   "pygments_lexer": "ipython3",
   "nbconvert_exporter": "python",
   "file_extension": ".py"
  },
  "kernelspec": {
   "name": "python3",
   "display_name": "Python 3.9.7 64-bit"
  },
  "interpreter": {
   "hash": "aee8b7b246df8f9039afb4144a1f6fd8d2ca17a180786b69acc140d282b71a49"
  }
 },
 "nbformat": 4,
 "nbformat_minor": 2
}