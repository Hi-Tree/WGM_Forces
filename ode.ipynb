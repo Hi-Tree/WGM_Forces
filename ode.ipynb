{
 "cells": [
  {
   "cell_type": "code",
   "execution_count": 146,
   "source": [
    "import numpy as np\n",
    "from pandas.core.frame import DataFrame\n",
    "import forces\n",
    "from scipy.integrate import odeint\n",
    "from scipy.stats import maxwell \n",
    "import matplotlib.pyplot as plt\n",
    "import pandas as pd\n",
    "import seaborn as sns"
   ],
   "outputs": [],
   "metadata": {}
  },
  {
   "cell_type": "markdown",
   "source": [
    "<h2 style=\"color:orange\">Function to create N randomized particles</h2>"
   ],
   "metadata": {}
  },
  {
   "cell_type": "markdown",
   "source": [
    "Average mass = D*V = 2e-6 * (4 * pi* (7.5e-7)**3)/3\n",
    "tao = sqrt(lambda * Average Mass / A(l,n,p)) =  sqrt(2*Pi/k * Average Mass / 7.02158e-14)\n",
    "Average velocity = 4KbT / 3M"
   ],
   "metadata": {}
  },
  {
   "cell_type": "code",
   "execution_count": 147,
   "source": [
    "par = {\n",
    "            'l': 40,\n",
    "            'x_r': 39.107,            \n",
    "            'Rr': 5.6e-5, \n",
    "            'Rp':7.5e-7,\n",
    "            'R_ratio':0,\n",
    "            'n_w': 1.326,\n",
    "            'n_p': 1.572\n",
    "            }"
   ],
   "outputs": [],
   "metadata": {}
  },
  {
   "cell_type": "code",
   "execution_count": 148,
   "source": [
    "lambd = 2*np.pi*par['Rr']/par['x_r']       #lamb = 2*pi / k where k = x/Rr\n",
    "M = (4/3) * np.pi * (par['Rp']**3) *1040   #where density of silica is 1040\n",
    "tao = 0.00048528                           #value obtained from mathematica\n",
    "kbt = 1.38064852e-23 * 300                 #value is in eV\n",
    "alpha = 7.02158e-14\n",
    "stdevTildaV = (4*kbt*(par['Rr']**3))/(3*(2.92291e-8)*(par['Rp']**3)*lambd)\n",
    "vavgTilda = np.sqrt(stdevTildaV)\n",
    "\n",
    "eta = (0.00700175*M)/(vavgTilda*6*np.pi*(par['Rp'])*tao)#Eta is for Average Rp and Average velocity for all cartesian directions"
   ],
   "outputs": [],
   "metadata": {}
  },
  {
   "cell_type": "code",
   "execution_count": 149,
   "source": [
    "def randomized(N):\n",
    "    Results = pd.DataFrame(columns=['rand_x','rand_y','rand_z','rho_','theta_','phi_','dRho_','dTheta_','dPhi_','Rp_','gamma_','time_'])\n",
    "    while Results.count()[0] != N:\n",
    "        Rp = np.random.uniform(7.5*10**(-7) - 3.75*10**(-8), 7.5*10**(-7) + 3.75*10**(-8))\n",
    "        #random positions\n",
    "        rho = np.random.uniform(39.107,39.107+(2*np.pi))\n",
    "        theta = np.random.uniform(((np.pi/2)-np.sqrt(1/40)),((np.pi/2)+np.sqrt(1/40)))\n",
    "        phi = np.random.uniform(0,np.pi*2)\n",
    "        #random velocities\n",
    "        vx = np.random.normal(0,stdevTildaV)\n",
    "        vy = np.random.normal(0,stdevTildaV)\n",
    "        vz = np.random.normal(0,stdevTildaV)\n",
    "        #rhop is density, \n",
    "\n",
    "        m = (4/3) * np.pi * (Rp**3) *1040\n",
    "        gamma = (6 * np.pi * eta * tao * Rp)/m #gamma tilde, average tao not sepcific to size\n",
    "    \n",
    "        dRhodT = vx*np.sin(theta)*np.cos(phi)+vy*np.sin(theta)*np.sin(phi)+vz*np.cos(theta) #vrho \n",
    "        if dRhodT <= 0: #try more numbers forward trajectory of one of the particles \n",
    "            Results = pd.concat([pd.DataFrame([[vx,  vy,  vz,  rho,  theta,  phi, dRhodT,0,0,Rp,gamma,None]],columns = Results.columns),Results],ignore_index = True)\n",
    "    \n",
    "    return Results"
   ],
   "outputs": [],
   "metadata": {}
  },
  {
   "cell_type": "code",
   "execution_count": 150,
   "source": [
    "def rand(N):\n",
    "    Results = pd.DataFrame(columns=['rand_x','rand_y','rand_z','rho_','theta_','phi_','dRho_','dTheta_','dPhi_','Rp_','gamma_','time_'])\n",
    "    Rpi = np.linspace(7.5*10**(-7)- 3.75*10**(-8), 7.5*10**(-7) + 3.75*10**(-8), N)\n",
    "    Rpi = np.array(Rpi)\n",
    "    m = (4/3) * np.pi * (Rpi**3) *1040\n",
    "    gamma = (6 * np.pi * eta * tao * Rpi)/m #gamma tilde, average tao not sepcific to size\n",
    "    while Results.count()[0] != N:\n",
    "        Results = pd.concat([pd.DataFrame([[-0.001421,  0.006615,  0.001120,  39.351469,  1.654382,  4.081736, -0.004582,0,0,None,None,None]],columns = Results.columns),Results],ignore_index = True)\n",
    "    Results['Rp_'] = Rpi\n",
    "    Results['gamma_'] = gamma\n",
    "    return Results"
   ],
   "outputs": [],
   "metadata": {}
  },
  {
   "cell_type": "markdown",
   "source": [
    "<h2 style=\"color:deeppink\">ODE Solver Function</h2>"
   ],
   "metadata": {}
  },
  {
   "cell_type": "code",
   "execution_count": 151,
   "source": [
    "TC = []\n",
    "def f(u, t, par, gamma,Rp):\n",
    "        rho, drho, theta, dtheta, phi, dphi = u\n",
    "        dudt = [\n",
    "                drho, forces.rho(rho, theta, par) - gamma * drho + rho * (dtheta * np.cos(phi)) ** 2 + rho * dphi ** 2,\n",
    "                dtheta, (forces.theta(rho, theta, par) - gamma * rho * dtheta * np.cos(phi) - 2 * drho * dtheta * np.cos(phi) + 2 * rho * dtheta * dphi * np.sin(phi)) / (rho * np.cos(phi)),\n",
    "                dphi, (forces.phi(rho, theta, par) - gamma * rho * dphi - 2 * drho * dphi - rho * dphi ** 2 * np.sin(phi) * np.cos(phi)) / rho\n",
    "            ]\n",
    "        if rho <= 39.107+Rp: #and theta <= (np.pi/2 + 0.01) and theta >= (np.pi - 0.01):\n",
    "            TC.append(t)\n",
    "            return [None,None,None,None,None,None]\n",
    "        return dudt"
   ],
   "outputs": [],
   "metadata": {}
  },
  {
   "cell_type": "markdown",
   "source": [
    "<span style=\"color:red\">Check</span>"
   ],
   "metadata": {}
  },
  {
   "cell_type": "code",
   "execution_count": 152,
   "source": [
    "\n",
    "def solve(Results):\n",
    "    global TC\n",
    "    j = 0\n",
    "    time = np.linspace(0,10,50000)\n",
    "    while j != len(Results.index):\n",
    "        gamma_ = Results['gamma_'][j]\n",
    "        Rp_ = Results['Rp_'][j]\n",
    "        par['R_ratio'] = (Results['Rp_'][j])/(5.6*10**(-5))\n",
    "        #print(par['R_ratio'])   \n",
    "        u0 = [Results['rho_'][j],Results['dRho_'][j], Results['theta_'][j], Results['dTheta_'][j], Results['phi_'][j], Results['dPhi_'][j]]\n",
    "        sol = odeint(f, u0, time, args = (par, gamma_,Rp_))\n",
    "        if len(TC) != 0:\n",
    "            print(TC)\n",
    "            Results.at[j,'time_'] = TC[0]\n",
    "            TC = []\n",
    "        j+=1\n",
    "    return Results\n"
   ],
   "outputs": [],
   "metadata": {}
  },
  {
   "cell_type": "code",
   "execution_count": 153,
   "source": [
    "h = pd.DataFrame(columns=['rand_x', 'rand_y', 'rand_z', 'rho_', 'theta_', 'phi_', 'dRho_',\n",
    "       'dTheta_', 'dPhi_', 'Rp_', 'gamma_', 'time_'])\n",
    "\n",
    "F = rand(50)\n",
    "\n",
    "'''\n",
    "F[\"gamma_\"][0] = 0.080198\n",
    "F[\"gamma_\"][1] = 0.080879\n",
    "F[\"Rp_\"][0] = 7.247449e-07\n",
    "F[\"Rp_\"][1] = 7.216837e-07\n",
    "'''\n",
    "z = solve(F)\n",
    "h = pd.concat([z, h],ignore_index = True)\n",
    "\n"
   ],
   "outputs": [
    {
     "output_type": "stream",
     "name": "stdout",
     "text": [
      "[10.211131651449842]\n",
      "[10.204171575456625]\n",
      "[10.197256092347386]\n",
      "[10.190429589006609]\n",
      "[10.25961601786031]\n",
      "[9.926608166232462]\n",
      "[9.921519958355619]\n",
      "[9.273552754387627]\n",
      "[9.273038044439582]\n",
      "[9.272010829579878]\n",
      "[9.270470316789654]\n",
      "[9.268420888369842]\n",
      "[9.26586863291702]\n",
      "[9.262812863648369]\n",
      "[9.259257733779922]\n",
      "[9.255219980377957]\n",
      "[9.250699031027846]\n",
      "[9.245711816655698]\n",
      "[9.240257836507995]\n",
      "[9.234354495875058]\n",
      "[9.228016181401504]\n",
      "[9.221250232459388]\n",
      "[9.214067069532067]\n",
      "[9.2064881409592]\n",
      "[9.19852265226677]\n",
      "[9.19018674081148]\n",
      "[9.18148939764843]\n",
      "[9.172451153119507]\n",
      "[9.163091103262177]\n",
      "[9.153411887703776]\n",
      "[9.143443576534617]\n",
      "[9.133187374558275]\n",
      "[9.122667567051206]\n",
      "[8.156089462688268]\n",
      "[8.147557600086524]\n",
      "[8.138856593804958]\n",
      "[8.129993040915293]\n",
      "[8.120981953720866]\n",
      "[8.11182784314388]\n",
      "[8.102549059241115]\n",
      "[8.093145176927996]\n",
      "[8.083628613235737]\n",
      "[8.074004501283047]\n",
      "[8.064292259142555]\n",
      "[8.054484701695277]\n",
      "[8.04459774440856]\n",
      "[8.034639479030261]\n",
      "[8.024617985917788]\n",
      "[8.014531370426452]\n",
      "[8.004398449585278]\n"
     ]
    }
   ],
   "metadata": {}
  },
  {
   "cell_type": "code",
   "execution_count": 154,
   "source": [
    "TC = []\n",
    "time0 = np.linspace(0,20,50000)\n",
    "u0 = [39.351469,-0.004582 , 1.654382, 0, 4.081736, 0] \n",
    "\n",
    "par['R_ratio'] = (7.247449e-07)/(5.6*10**(-5)) \n",
    "gamma_1 = 0.080198 \n",
    "sol1 = odeint(f, u0, time0, args = (par, gamma_1, 7.247449e-07))\n",
    "print(TC[0])\n",
    "TC = []\n",
    "\n",
    "par['R_ratio'] = (7.232143e-07)/(5.6*10**(-5)) \n",
    "gamma_2 = 0.080537\n",
    "sol2 = odeint(f, u0, time0, args = (par, gamma_2, 7.232143e-07))\n",
    "print(TC[0])"
   ],
   "outputs": [
    {
     "output_type": "stream",
     "name": "stdout",
     "text": [
      "9.801497905570116\n",
      "9.802202178457193\n"
     ]
    }
   ],
   "metadata": {}
  },
  {
   "cell_type": "markdown",
   "source": [
    "  "
   ],
   "metadata": {}
  },
  {
   "cell_type": "code",
   "execution_count": 155,
   "source": [
    "plt.plot(h['Rp_'],h['time_'],\"o\")\n",
    "plt.xlabel('Rp')\n",
    "plt.ylabel('Time')\n",
    "plt.show()"
   ],
   "outputs": [
    {
     "output_type": "display_data",
     "data": {
      "image/png": "[encoded data removed]",
      "text/plain": [
       "<Figure size 432x288 with 1 Axes>"
      ]
     },
     "metadata": {
      "needs_background": "light"
     }
    }
   ],
   "metadata": {}
  },
  {
   "cell_type": "markdown",
   "source": [
    "<h3 style=\"color:green\">Individual Trajectories</h3>"
   ],
   "metadata": {}
  },
  {
   "cell_type": "code",
   "execution_count": 157,
   "source": [
    "\n",
    "\n",
    "plt.plot(time0, sol1[:,0], \"-\") \n",
    "#plt.plot(time0, sol2[:,0], color = \"red\")\n",
    "plt.show()\n"
   ],
   "outputs": [
    {
     "output_type": "display_data",
     "data": {
      "image/png": "[encoded data removed]",
      "text/plain": [
       "<Figure size 432x288 with 1 Axes>"
      ]
     },
     "metadata": {
      "needs_background": "light"
     }
    }
   ],
   "metadata": {}
  }
 ],
 "metadata": {
  "orig_nbformat": 4,
  "language_info": {
   "name": "python",
   "version": "3.9.7",
   "mimetype": "text/x-python",
   "codemirror_mode": {
    "name": "ipython",
    "version": 3
   },
   "pygments_lexer": "ipython3",
   "nbconvert_exporter": "python",
   "file_extension": ".py"
  },
  "kernelspec": {
   "name": "python3",
   "display_name": "Python 3.9.7 64-bit"
  },
  "interpreter": {
   "hash": "aee8b7b246df8f9039afb4144a1f6fd8d2ca17a180786b69acc140d282b71a49"
  }
 },
 "nbformat": 4,
 "nbformat_minor": 2
}