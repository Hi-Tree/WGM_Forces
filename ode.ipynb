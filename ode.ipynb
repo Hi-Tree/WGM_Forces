{
 "cells": [
  {
   "cell_type": "code",
   "execution_count": 141,
   "source": [
    "import numpy as np\n",
    "from pandas.core.frame import DataFrame\n",
    "import forces\n",
    "from scipy.integrate import odeint\n",
    "from scipy.stats import maxwell \n",
    "import matplotlib.pyplot as plt\n",
    "import pandas as pd\n",
    "import seaborn as sns"
   ],
   "outputs": [],
   "metadata": {}
  },
  {
   "cell_type": "markdown",
   "source": [
    "<h2 style=\"color:orange\">Function to create N randomized particles</h2>"
   ],
   "metadata": {}
  },
  {
   "cell_type": "code",
   "execution_count": 142,
   "source": [
    "#Initial Velocities \n",
    "#drho = v_x*np.sin(theta)*np.cos(phi)+v_y*np.sin(theta)*np.sin(phi)+v_z*np.cos(theta)\n",
    "#dtheta = v_x*np.cos(theta)*np.cos(phi)+v_y*np.cos(theta)*np.sin(phi)-v_z*np.sin(theta)\n",
    "#dphi = v_y*np.cos(phi)-v_x*np.sin(phi) \n",
    "\n",
    "# make the randomzed optimize later, add other velocities\n",
    "\n",
    "check = []\n",
    "par = {\n",
    "            'l': 40,\n",
    "            'x_r': 39.107,            \n",
    "            'Rr': 5.6e-5, \n",
    "            'Rp':7.5e-7,\n",
    "            'R_ratio':0,\n",
    "            'n_w': 1.326,\n",
    "            'n_p': 1.572\n",
    "            }"
   ],
   "outputs": [],
   "metadata": {}
  },
  {
   "cell_type": "code",
   "execution_count": 143,
   "source": [
    "lambd = 2*np.pi*par['Rr']/par['x_r']       #lamb = 2*pi / k where k = x/Rr\n",
    "M = (4/3) * np.pi * (par['Rp']**3) *1040   #where density of silica is 1040\n",
    "tao = 0.00048528                           #value obtained from mathematica\n",
    "kbt = 1.38064852e-23 * 300                 #value is in eV\n",
    "alpha = 7.02158e-14\n",
    "stdevTildaV = (4*kbt*(par['Rr']**3))/(3*(2.92291e-8)*(par['Rp']**3)*lambd)\n",
    "vavgTilda = np.sqrt(stdevTildaV)\n",
    "\n",
    "eta = (0.00700175*M)/(vavgTilda*6*np.pi*(par['Rp'])*tao)#Eta is for Average Rp and Average velocity for all cartesian directions"
   ],
   "outputs": [],
   "metadata": {}
  },
  {
   "cell_type": "code",
   "execution_count": 144,
   "source": [
    "def randomized(N):\n",
    "    Results = pd.DataFrame(columns=['rand_x','rand_y','rand_z','rho_','theta_','phi_','dRho_','dTheta_','dPhi_','Rp_','gamma_','time_'])\n",
    "    while Results.count()[0] != N:\n",
    "        Rp = np.random.uniform(7.5*10**(-7) - 3.75*10**(-8), 7.5*10**(-7) + 3.75*10**(-8))\n",
    "        #random positions\n",
    "        rho = np.random.uniform(39.107+(2*np.pi),39.107)\n",
    "        theta = np.random.uniform(((np.pi/2)-np.sqrt(1/40)),((np.pi/2)+np.sqrt(1/40)))\n",
    "        phi = np.random.uniform(0,np.pi*2)\n",
    "        #random velocities\n",
    "        vx = np.random.normal(0,stdevTildaV)\n",
    "        vy = np.random.normal(0,stdevTildaV)\n",
    "        vz = np.random.normal(0,stdevTildaV)\n",
    "        #rhop is density, \n",
    "\n",
    "        m = (4/3) * np.pi * (Rp**3) *1040\n",
    "        gamma = (6 * np.pi * eta * tao * Rp)/m #gamma tilde, average tao not sepcific to size\n",
    "        dtheta = vx*np.cos(theta)*np.cos(phi)+vy*np.cos(theta)*np.sin(phi)-vz*np.sin(theta)\n",
    "        dphi = vy*np.cos(phi)-vx*np.sin(phi)\n",
    "        dRhodT = vx*np.sin(theta)*np.cos(phi)+vy*np.sin(theta)*np.sin(phi)+vz*np.cos(theta) #vrho \n",
    "        if dRhodT <= 0: \n",
    "            Results = pd.concat([pd.DataFrame([[vx,  vy,  vz,  rho,  theta,  phi, dRhodT, dtheta, dphi, Rp, gamma, None]],columns = Results.columns),Results],ignore_index = True)\n",
    "    \n",
    "    return Results"
   ],
   "outputs": [],
   "metadata": {}
  },
  {
   "cell_type": "code",
   "execution_count": 145,
   "source": [
    "def rand(N):\n",
    "    Results = pd.DataFrame(columns=['rand_x','rand_y','rand_z','rho_','theta_','phi_','dRho_','dTheta_','dPhi_','Rp_','gamma_','time_'])\n",
    "    Rpi = np.linspace(7.5*10**(-7)- 3.75*10**(-8), 7.5*10**(-7) + 3.75*10**(-8), N)\n",
    "    Rpi = np.array(Rpi)\n",
    "    m = (4/3) * np.pi * (Rpi**3) *1040\n",
    "    gamma = (6 * np.pi * eta * tao * Rpi)/m #gamma tilde, average tao not sepcific to size\n",
    "    while Results.count()[0] != N:\n",
    "        Results = pd.concat([pd.DataFrame([[-0.001421,  0.006615,  0.001120,  39.351469,  1.654382,  4.081736, -0.004582,0,0,None,None,None]],columns = Results.columns),Results],ignore_index = True)\n",
    "    Results['Rp_'] = Rpi\n",
    "    Results['gamma_'] = gamma\n",
    "    return Results"
   ],
   "outputs": [],
   "metadata": {}
  },
  {
   "cell_type": "code",
   "execution_count": 146,
   "source": [
    "rand(2)"
   ],
   "outputs": [
    {
     "output_type": "execute_result",
     "data": {
      "text/html": [
       "<div>\n",
       "<style scoped>\n",
       "    .dataframe tbody tr th:only-of-type {\n",
       "        vertical-align: middle;\n",
       "    }\n",
       "\n",
       "    .dataframe tbody tr th {\n",
       "        vertical-align: top;\n",
       "    }\n",
       "\n",
       "    .dataframe thead th {\n",
       "        text-align: right;\n",
       "    }\n",
       "</style>\n",
       "<table border=\"1\" class=\"dataframe\">\n",
       "  <thead>\n",
       "    <tr style=\"text-align: right;\">\n",
       "      <th></th>\n",
       "      <th>rand_x</th>\n",
       "      <th>rand_y</th>\n",
       "      <th>rand_z</th>\n",
       "      <th>rho_</th>\n",
       "      <th>theta_</th>\n",
       "      <th>phi_</th>\n",
       "      <th>dRho_</th>\n",
       "      <th>dTheta_</th>\n",
       "      <th>dPhi_</th>\n",
       "      <th>Rp_</th>\n",
       "      <th>gamma_</th>\n",
       "      <th>time_</th>\n",
       "    </tr>\n",
       "  </thead>\n",
       "  <tbody>\n",
       "    <tr>\n",
       "      <th>0</th>\n",
       "      <td>-0.001421</td>\n",
       "      <td>0.006615</td>\n",
       "      <td>0.00112</td>\n",
       "      <td>39.351469</td>\n",
       "      <td>1.654382</td>\n",
       "      <td>4.081736</td>\n",
       "      <td>-0.004582</td>\n",
       "      <td>0</td>\n",
       "      <td>0</td>\n",
       "      <td>7.125000e-07</td>\n",
       "      <td>0.082978</td>\n",
       "      <td>None</td>\n",
       "    </tr>\n",
       "    <tr>\n",
       "      <th>1</th>\n",
       "      <td>-0.001421</td>\n",
       "      <td>0.006615</td>\n",
       "      <td>0.00112</td>\n",
       "      <td>39.351469</td>\n",
       "      <td>1.654382</td>\n",
       "      <td>4.081736</td>\n",
       "      <td>-0.004582</td>\n",
       "      <td>0</td>\n",
       "      <td>0</td>\n",
       "      <td>7.875000e-07</td>\n",
       "      <td>0.067925</td>\n",
       "      <td>None</td>\n",
       "    </tr>\n",
       "  </tbody>\n",
       "</table>\n",
       "</div>"
      ],
      "text/plain": [
       "     rand_x    rand_y   rand_z       rho_    theta_      phi_     dRho_  \\\n",
       "0 -0.001421  0.006615  0.00112  39.351469  1.654382  4.081736 -0.004582   \n",
       "1 -0.001421  0.006615  0.00112  39.351469  1.654382  4.081736 -0.004582   \n",
       "\n",
       "  dTheta_ dPhi_           Rp_    gamma_ time_  \n",
       "0       0     0  7.125000e-07  0.082978  None  \n",
       "1       0     0  7.875000e-07  0.067925  None  "
      ]
     },
     "metadata": {},
     "execution_count": 146
    }
   ],
   "metadata": {}
  },
  {
   "cell_type": "code",
   "execution_count": 147,
   "source": [
    "randomized(2)"
   ],
   "outputs": [
    {
     "output_type": "execute_result",
     "data": {
      "text/html": [
       "<div>\n",
       "<style scoped>\n",
       "    .dataframe tbody tr th:only-of-type {\n",
       "        vertical-align: middle;\n",
       "    }\n",
       "\n",
       "    .dataframe tbody tr th {\n",
       "        vertical-align: top;\n",
       "    }\n",
       "\n",
       "    .dataframe thead th {\n",
       "        text-align: right;\n",
       "    }\n",
       "</style>\n",
       "<table border=\"1\" class=\"dataframe\">\n",
       "  <thead>\n",
       "    <tr style=\"text-align: right;\">\n",
       "      <th></th>\n",
       "      <th>rand_x</th>\n",
       "      <th>rand_y</th>\n",
       "      <th>rand_z</th>\n",
       "      <th>rho_</th>\n",
       "      <th>theta_</th>\n",
       "      <th>phi_</th>\n",
       "      <th>dRho_</th>\n",
       "      <th>dTheta_</th>\n",
       "      <th>dPhi_</th>\n",
       "      <th>Rp_</th>\n",
       "      <th>gamma_</th>\n",
       "      <th>time_</th>\n",
       "    </tr>\n",
       "  </thead>\n",
       "  <tbody>\n",
       "    <tr>\n",
       "      <th>0</th>\n",
       "      <td>0.007263</td>\n",
       "      <td>-0.010221</td>\n",
       "      <td>-0.000176</td>\n",
       "      <td>41.634167</td>\n",
       "      <td>1.567839</td>\n",
       "      <td>3.414143</td>\n",
       "      <td>-0.004244</td>\n",
       "      <td>0.000164</td>\n",
       "      <td>0.011799</td>\n",
       "      <td>7.503013e-07</td>\n",
       "      <td>0.074827</td>\n",
       "      <td>None</td>\n",
       "    </tr>\n",
       "    <tr>\n",
       "      <th>1</th>\n",
       "      <td>-0.001747</td>\n",
       "      <td>-0.011726</td>\n",
       "      <td>-0.004994</td>\n",
       "      <td>44.983995</td>\n",
       "      <td>1.486192</td>\n",
       "      <td>2.103775</td>\n",
       "      <td>-0.009601</td>\n",
       "      <td>0.004197</td>\n",
       "      <td>0.007463</td>\n",
       "      <td>7.583331e-07</td>\n",
       "      <td>0.073251</td>\n",
       "      <td>None</td>\n",
       "    </tr>\n",
       "  </tbody>\n",
       "</table>\n",
       "</div>"
      ],
      "text/plain": [
       "     rand_x    rand_y    rand_z       rho_    theta_      phi_     dRho_  \\\n",
       "0  0.007263 -0.010221 -0.000176  41.634167  1.567839  3.414143 -0.004244   \n",
       "1 -0.001747 -0.011726 -0.004994  44.983995  1.486192  2.103775 -0.009601   \n",
       "\n",
       "    dTheta_     dPhi_           Rp_    gamma_ time_  \n",
       "0  0.000164  0.011799  7.503013e-07  0.074827  None  \n",
       "1  0.004197  0.007463  7.583331e-07  0.073251  None  "
      ]
     },
     "metadata": {},
     "execution_count": 147
    }
   ],
   "metadata": {}
  },
  {
   "cell_type": "markdown",
   "source": [
    "<h2 style=\"color:deeppink\">ODE Solver Function</h2>"
   ],
   "metadata": {}
  },
  {
   "cell_type": "code",
   "execution_count": 148,
   "source": [
    "TC = []\n",
    "def f(u, t, par, gamma,Rp):\n",
    "    rho, drho, theta, dtheta, phi, dphi = u     \n",
    "    dudt = [\n",
    "                drho, forces.rho(rho, theta, par) - gamma * drho + rho * (dtheta * np.cos(phi)) ** 2 + rho * dphi ** 2,\n",
    "                dtheta, (forces.theta(rho, theta, par) - gamma * rho * dtheta * np.cos(phi) - 2 * drho * dtheta * np.cos(phi) + 2 * rho * dtheta * dphi * np.sin(phi)) / (rho * np.cos(phi)),\n",
    "                dphi, (forces.phi(rho, theta, par) - gamma * rho * dphi - 2 * drho * dphi - rho * dphi ** 2 * np.sin(phi) * np.cos(phi)) / rho\n",
    "            ]\n",
    "        \n",
    "    return dudt"
   ],
   "outputs": [],
   "metadata": {}
  },
  {
   "cell_type": "markdown",
   "source": [
    "<span style=\"color:red\">Automates solution for multiple particles</span>"
   ],
   "metadata": {}
  },
  {
   "cell_type": "code",
   "execution_count": 149,
   "source": [
    "\n",
    "def solve(Results):\n",
    "    k = pd.DataFrame(columns=[\"rho\", \"time\",\"Rp_\"])\n",
    "    g = pd.DataFrame(columns=[\"rho\", \"time\",\"Rp_\"])\n",
    "\n",
    "    j = 0\n",
    "    time = np.linspace(0,100,1000)\n",
    "    while j != len(Results.index):\n",
    "        gamma_ = Results['gamma_'][j]\n",
    "        Rp_ = Results['Rp_'][j]\n",
    "        par['R_ratio'] = (Results['Rp_'][j])/(5.6*10**(-5))  \n",
    "        u0 = [Results['rho_'][j],Results['dRho_'][j], Results['theta_'][j], Results['dTheta_'][j], Results['phi_'][j], Results['dPhi_'][j]]\n",
    "        sol = odeint(f, u0, time, args = (par, gamma_,Rp_))\n",
    "        \n",
    "        k[\"rho\"] = sol[:,0]\n",
    "        k[\"time\"] = time\n",
    "        k[\"Rp_\"] = [Rp_]*1000\n",
    "        k = k[k.rho <= 39.107+Rp_].head(1)\n",
    "        \n",
    "        g = pd.concat([k, g],ignore_index = True)\n",
    "        k = pd.DataFrame(columns=[\"rho\", \"time\",\"Rp_\"])\n",
    "        \n",
    "        j+=1\n",
    "    return [g,sol,time]\n"
   ],
   "outputs": [],
   "metadata": {}
  },
  {
   "cell_type": "markdown",
   "source": [
    "<span style=\"color:red\">Call to functions</span>"
   ],
   "metadata": {}
  },
  {
   "cell_type": "code",
   "execution_count": 151,
   "source": [
    "F = randomized(200)\n",
    "\n",
    "z = solve(F)[0].sort_values('time')\n",
    "\n",
    "\n"
   ],
   "outputs": [],
   "metadata": {}
  },
  {
   "cell_type": "code",
   "execution_count": 152,
   "source": [
    "z.head(10)"
   ],
   "outputs": [
    {
     "output_type": "execute_result",
     "data": {
      "text/html": [
       "<div>\n",
       "<style scoped>\n",
       "    .dataframe tbody tr th:only-of-type {\n",
       "        vertical-align: middle;\n",
       "    }\n",
       "\n",
       "    .dataframe tbody tr th {\n",
       "        vertical-align: top;\n",
       "    }\n",
       "\n",
       "    .dataframe thead th {\n",
       "        text-align: right;\n",
       "    }\n",
       "</style>\n",
       "<table border=\"1\" class=\"dataframe\">\n",
       "  <thead>\n",
       "    <tr style=\"text-align: right;\">\n",
       "      <th></th>\n",
       "      <th>rho</th>\n",
       "      <th>time</th>\n",
       "      <th>Rp_</th>\n",
       "    </tr>\n",
       "  </thead>\n",
       "  <tbody>\n",
       "    <tr>\n",
       "      <th>1</th>\n",
       "      <td>39.106213</td>\n",
       "      <td>3.603604</td>\n",
       "      <td>7.744069e-07</td>\n",
       "    </tr>\n",
       "    <tr>\n",
       "      <th>0</th>\n",
       "      <td>39.105981</td>\n",
       "      <td>3.703704</td>\n",
       "      <td>7.631057e-07</td>\n",
       "    </tr>\n",
       "    <tr>\n",
       "      <th>22</th>\n",
       "      <td>39.106689</td>\n",
       "      <td>6.706707</td>\n",
       "      <td>7.548461e-07</td>\n",
       "    </tr>\n",
       "    <tr>\n",
       "      <th>2</th>\n",
       "      <td>39.103795</td>\n",
       "      <td>7.607608</td>\n",
       "      <td>7.679111e-07</td>\n",
       "    </tr>\n",
       "    <tr>\n",
       "      <th>12</th>\n",
       "      <td>39.102106</td>\n",
       "      <td>7.707708</td>\n",
       "      <td>7.621948e-07</td>\n",
       "    </tr>\n",
       "    <tr>\n",
       "      <th>28</th>\n",
       "      <td>39.104732</td>\n",
       "      <td>8.408408</td>\n",
       "      <td>7.524950e-07</td>\n",
       "    </tr>\n",
       "    <tr>\n",
       "      <th>20</th>\n",
       "      <td>39.105182</td>\n",
       "      <td>8.908909</td>\n",
       "      <td>7.505679e-07</td>\n",
       "    </tr>\n",
       "    <tr>\n",
       "      <th>27</th>\n",
       "      <td>39.104682</td>\n",
       "      <td>8.908909</td>\n",
       "      <td>7.356597e-07</td>\n",
       "    </tr>\n",
       "    <tr>\n",
       "      <th>17</th>\n",
       "      <td>39.106100</td>\n",
       "      <td>10.710711</td>\n",
       "      <td>7.810411e-07</td>\n",
       "    </tr>\n",
       "    <tr>\n",
       "      <th>23</th>\n",
       "      <td>39.104851</td>\n",
       "      <td>11.511512</td>\n",
       "      <td>7.158887e-07</td>\n",
       "    </tr>\n",
       "  </tbody>\n",
       "</table>\n",
       "</div>"
      ],
      "text/plain": [
       "          rho       time           Rp_\n",
       "1   39.106213   3.603604  7.744069e-07\n",
       "0   39.105981   3.703704  7.631057e-07\n",
       "22  39.106689   6.706707  7.548461e-07\n",
       "2   39.103795   7.607608  7.679111e-07\n",
       "12  39.102106   7.707708  7.621948e-07\n",
       "28  39.104732   8.408408  7.524950e-07\n",
       "20  39.105182   8.908909  7.505679e-07\n",
       "27  39.104682   8.908909  7.356597e-07\n",
       "17  39.106100  10.710711  7.810411e-07\n",
       "23  39.104851  11.511512  7.158887e-07"
      ]
     },
     "metadata": {},
     "execution_count": 152
    }
   ],
   "metadata": {}
  },
  {
   "cell_type": "code",
   "execution_count": 153,
   "source": [
    "TC = []\n",
    "time0 = np.linspace(0,50,50)\n",
    "u0 = [39.351469,-0.004582 , 1.654382, 0, 4.081736, 0] \n",
    "par['R_ratio'] = (7.247449e-07)/(5.6*10**(-5)) \n",
    "gamma_1 = 0.080198 \n",
    "sol1 = odeint(f, u0, time0, args = (par, gamma_1, 7.247449e-07))\n"
   ],
   "outputs": [],
   "metadata": {}
  },
  {
   "cell_type": "markdown",
   "source": [
    "<h1 style=\"color:lime\">Time vs. Rp for 50 particles</h1>"
   ],
   "metadata": {}
  },
  {
   "cell_type": "code",
   "execution_count": 154,
   "source": [
    "plt.plot(z['Rp_'],z['time'],\"o\")\n",
    "plt.xlabel('Rp')\n",
    "plt.ylabel('Time')\n",
    "plt.show() #"
   ],
   "outputs": [
    {
     "output_type": "display_data",
     "data": {
      "image/png": "[encoded data removed]",
      "text/plain": [
       "<Figure size 432x288 with 1 Axes>"
      ]
     },
     "metadata": {
      "needs_background": "light"
     }
    }
   ],
   "metadata": {}
  },
  {
   "cell_type": "markdown",
   "source": [
    "<span>Analytics</span>"
   ],
   "metadata": {}
  },
  {
   "cell_type": "code",
   "execution_count": 155,
   "source": [
    "#10 runs of 100 solutions pick top 10 fastest in each case and make histogram \n",
    "Res = pd.DataFrame(columns=['rho','time','Rp_'])\n",
    "Res2 = pd.DataFrame(columns=['rho','time','Rp_'])\n",
    "Res3 = pd.DataFrame(columns=['rand_x','rand_y','rand_z','rho_','theta_','phi_','dRho_','dTheta_','dPhi_','Rp_','gamma_','time_'])\n",
    "for i in range(20000):\n",
    "    F = randomized(100)\n",
    "    z = solve(F)[0].sort_values('time')\n",
    "    top = z.head(1)\n",
    "    Res = pd.concat([top, Res],ignore_index = True)\n",
    "    Res2 = pd.concat([z, Res2],ignore_index = True)\n",
    "    Res3 = pd.concat([F, Res3],ignore_index = True)\n",
    "\n"
   ],
   "outputs": [
    {
     "output_type": "stream",
     "name": "stderr",
     "text": [
      "/Library/Frameworks/Python.framework/Versions/3.9/lib/python3.9/site-packages/scipy/integrate/odepack.py:247: ODEintWarning: Excess work done on this call (perhaps wrong Dfun type). Run with full_output = 1 to get quantitative information.\n",
      "  warnings.warn(warning_msg, ODEintWarning)\n"
     ]
    }
   ],
   "metadata": {}
  },
  {
   "cell_type": "code",
   "execution_count": null,
   "source": [
    "len(Res2.index)\n",
    "1+1"
   ],
   "outputs": [
    {
     "output_type": "execute_result",
     "data": {
      "text/plain": [
       "26"
      ]
     },
     "metadata": {},
     "execution_count": 55
    }
   ],
   "metadata": {}
  },
  {
   "cell_type": "markdown",
   "source": [
    "<h1>The ones that reached first</h1>"
   ],
   "metadata": {}
  },
  {
   "cell_type": "code",
   "execution_count": null,
   "source": [
    "\n",
    "fig, ax = plt.subplots()\n",
    "sns.histplot(data=Res, x = 'Rp_', ax=ax)  # distplot is deprecate and replaced by histplot\n",
    "ax.set_xlim(7.5*10**(-7) - 3.75*10**(-8), 7.5*10**(-7) + 3.75*10**(-8))\n",
    "#ax.set_xticks(range(7.5*10**(-7) - 3.75*10**(-8), 7.5*10**(-7) + 3.75*10**(-8)))\n",
    "plt.show()"
   ],
   "outputs": [
    {
     "output_type": "display_data",
     "data": {
      "image/png": "[encoded data removed]",
      "text/plain": [
       "<Figure size 432x288 with 1 Axes>"
      ]
     },
     "metadata": {
      "needs_background": "light"
     }
    }
   ],
   "metadata": {}
  },
  {
   "cell_type": "markdown",
   "source": [
    "<h1>The ones that reached from the total</h1>"
   ],
   "metadata": {}
  },
  {
   "cell_type": "code",
   "execution_count": null,
   "source": [
    "fig, ax = plt.subplots()\n",
    "sns.histplot(data=Res2, x = 'Rp_', ax=ax)  # distplot is deprecate and replaced by histplot\n",
    "ax.set_xlim(7.5*10**(-7) - 3.75*10**(-8), 7.5*10**(-7) + 3.75*10**(-8))\n",
    "#ax.set_xticks(range(7.5*10**(-7) - 3.75*10**(-8), 7.5*10**(-7) + 3.75*10**(-8)))\n",
    "plt.show()"
   ],
   "outputs": [
    {
     "output_type": "display_data",
     "data": {
      "image/png": "[encoded data removed]",
      "text/plain": [
       "<Figure size 432x288 with 1 Axes>"
      ]
     },
     "metadata": {
      "needs_background": "light"
     }
    }
   ],
   "metadata": {}
  },
  {
   "cell_type": "markdown",
   "source": [
    "<h1>Total random generated data</h1>"
   ],
   "metadata": {}
  },
  {
   "cell_type": "code",
   "execution_count": null,
   "source": [
    "fig, ax = plt.subplots()\n",
    "sns.histplot(data=Res3, x = 'Rp_', ax=ax)  # distplot is deprecate and replaced by histplot\n",
    "ax.set_xlim(7.5*10**(-7) - 3.75*10**(-8), 7.5*10**(-7) + 3.75*10**(-8))\n",
    "#ax.set_xticks(range(7.5*10**(-7) - 3.75*10**(-8), 7.5*10**(-7) + 3.75*10**(-8)))\n",
    "plt.show()"
   ],
   "outputs": [
    {
     "output_type": "display_data",
     "data": {
      "image/png": "[encoded data removed]",
      "text/plain": [
       "<Figure size 432x288 with 1 Axes>"
      ]
     },
     "metadata": {
      "needs_background": "light"
     }
    }
   ],
   "metadata": {}
  },
  {
   "cell_type": "code",
   "execution_count": null,
   "source": [
    "Res.to_csv('TheOnesThatReachedFirst.csv')\n",
    "Res2.to_csv('TheOnesThatReachedFromTheTotal.csv')\n",
    "Res3.to_csv('TotalRandomGeneratedData.csv')"
   ],
   "outputs": [],
   "metadata": {}
  },
  {
   "cell_type": "markdown",
   "source": [
    "<h2 style=\"color:green\">Individual Trajectories</h2>"
   ],
   "metadata": {}
  },
  {
   "cell_type": "code",
   "execution_count": null,
   "source": [
    "\n",
    "s = randomized(1)\n",
    "z = solve(s)\n",
    "plt.plot(z[2], z[1][:,0])\n",
    "plt.show()\n"
   ],
   "outputs": [
    {
     "output_type": "display_data",
     "data": {
      "image/png": "[encoded data removed]",
      "text/plain": [
       "<Figure size 432x288 with 1 Axes>"
      ]
     },
     "metadata": {
      "needs_background": "light"
     }
    }
   ],
   "metadata": {}
  }
 ],
 "metadata": {
  "orig_nbformat": 4,
  "language_info": {
   "name": "python",
   "version": "3.9.7",
   "mimetype": "text/x-python",
   "codemirror_mode": {
    "name": "ipython",
    "version": 3
   },
   "pygments_lexer": "ipython3",
   "nbconvert_exporter": "python",
   "file_extension": ".py"
  },
  "kernelspec": {
   "name": "python3",
   "display_name": "Python 3.9.7 64-bit"
  },
  "interpreter": {
   "hash": "aee8b7b246df8f9039afb4144a1f6fd8d2ca17a180786b69acc140d282b71a49"
  }
 },
 "nbformat": 4,
 "nbformat_minor": 2
}