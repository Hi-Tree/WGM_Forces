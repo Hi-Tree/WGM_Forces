{
 "cells": [
  {
   "cell_type": "code",
   "execution_count": 4,
   "source": [
    "import numpy as np\n",
    "from pandas.core.frame import DataFrame\n",
    "import forces\n",
    "from scipy.integrate import odeint\n",
    "from scipy.stats import maxwell \n",
    "import matplotlib.pyplot as plt\n",
    "import pandas as pd\n",
    "import seaborn as sns"
   ],
   "outputs": [],
   "metadata": {}
  },
  {
   "cell_type": "markdown",
   "source": [
    "<h2 style=\"color:orange\">Function to create N randomized particles</h2>"
   ],
   "metadata": {}
  },
  {
   "cell_type": "code",
   "execution_count": 1,
   "source": [
    "def randomized(N):\n",
    "    Results = pd.DataFrame(columns=['rand_x','rand_y','rand_z','rho_','theta_','phi_','dRho_','dTheta_','dPhi_','Rp_','gamma_','time_'])\n",
    "    while Results.count()[0] != N:\n",
    "        Rp = np.random.uniform(7.5*10**(-7) - 3.75*10**(-8), 7.5*10**(-7) + 3.75*10**(-8))\n",
    "        rho = np.random.uniform(39.107,39.107+(2*np.pi))\n",
    "        theta = np.random.uniform((np.pi-np.sqrt(1/40)),(np.pi+np.sqrt(1/40)))\n",
    "        phi = np.random.uniform(0,np.pi*2)\n",
    "        vx = maxwell.rvs() #change later\n",
    "        vy = maxwell.rvs()\n",
    "        vz = maxwell.rvs()\n",
    "\n",
    "\n",
    "\n",
    "        eta = (0.00700175)/(vx*6*np.pi*(7.5*10**(-7)))#Eta is for Average Rp and Average velocity for all cartesian directions\n",
    "        gamma = 6*np.pi*eta*Rp #gamma is for random Rp\n",
    "\n",
    "\n",
    "        \n",
    "        dRhodT = vx*np.sin(theta)*np.cos(phi)+vy*np.sin(theta)*np.sin(phi)+vz*np.cos(theta)\n",
    "        if dRhodT <= 0.0075:\n",
    "            Results = pd.concat([pd.DataFrame([[vx,vy,vz,rho,theta,phi,dRhodT,np.pi/2,1e-10,Rp,gamma,None]],columns = Results.columns),Results],ignore_index = True)\n",
    "    return Results"
   ],
   "outputs": [],
   "metadata": {}
  },
  {
   "cell_type": "code",
   "execution_count": 43,
   "source": [
    "print(randomized(4))"
   ],
   "outputs": [
    {
     "output_type": "stream",
     "name": "stdout",
     "text": [
      "     rand_x    rand_y    rand_z       rho_    theta_      phi_     dRho_  \\\n",
      "0  1.431004  1.291075  1.283701  40.927951  3.009710  2.094396 -1.219611   \n",
      "1  1.237102  3.035151  1.761006  43.844694  3.051735  0.762166 -1.485536   \n",
      "2  2.333590  2.548469  1.182584  44.821858  3.234547  1.558147 -1.416750   \n",
      "3  1.486598  0.949615  2.928494  39.284317  3.153624  4.835661 -2.919142   \n",
      "\n",
      "    dTheta_         dPhi_           Rp_    gamma_ time_  \n",
      "0  1.570796  1.000000e-10  7.560109e-07  0.004893  None  \n",
      "1  1.570796  1.000000e-10  7.579646e-07  0.005660  None  \n",
      "2  1.570796  1.000000e-10  7.232031e-07  0.003000  None  \n",
      "3  1.570796  1.000000e-10  7.518798e-07  0.004710  None  \n"
     ]
    }
   ],
   "metadata": {}
  },
  {
   "cell_type": "markdown",
   "source": [
    "<h2 style=\"color:deeppink\">ODE Solver Function</h2>"
   ],
   "metadata": {}
  },
  {
   "cell_type": "code",
   "execution_count": 51,
   "source": [
    "def f(u, t, par, gamma):\n",
    "        rho, drho, theta, dtheta, phi, dphi = u\n",
    "        dudt = [\n",
    "                drho, forces.rho(rho, theta, par) - gamma * drho + rho * (dtheta * np.cos(phi)) ** 2 + rho * dphi ** 2,\n",
    "                dtheta, (forces.theta(rho, theta, par) - gamma * rho * dtheta * np.cos(phi) - 2 * drho * dtheta * np.cos(phi) + 2 * rho * dtheta * dphi * np.sin(phi)) / (rho * np.cos(phi)),\n",
    "                dphi, (forces.phi(rho, theta, par) - gamma * rho * dphi - 2 * drho * dphi - rho * dphi ** 2 * np.sin(phi) * np.cos(phi)) / rho\n",
    "            ]\n",
    "        if rho <= 39.107 and theta <= (np.pi/2 + 0.01) and theta >= (np.pi - 0.01):\n",
    "            TC.append(t)\n",
    "            return [None,None,None,None,None,None]\n",
    "        return dudt"
   ],
   "outputs": [],
   "metadata": {}
  },
  {
   "cell_type": "markdown",
   "source": [],
   "metadata": {}
  },
  {
   "cell_type": "code",
   "execution_count": 52,
   "source": [
    "\n",
    "def solve(Results):\n",
    "    global TC\n",
    "    j = 0\n",
    "    time = np.linspace(0,20,100)\n",
    "    while j != len(F.index):\n",
    "        gamma_ = Results['gamma_'][j]\n",
    "        par = {\n",
    "            'l': 40,\n",
    "            'x_r': 39.107,            \n",
    "            'R_ratio': (Results['Rp_'][j])/(5.6*10**(-5)), \n",
    "            'n_w': 1.326,\n",
    "            'n_p': 1.572\n",
    "            }\n",
    "        u0 = [Results['rho_'][j],Results['dRho_'][j], Results['theta_'][j], Results['dTheta_'][j], Results['phi_'][j], Results['dPhi_'][j]] \n",
    "        sol = odeint(f, u0, time, args = (par, gamma_))\n",
    "        if len(TC) != 0:\n",
    "            Results.at[j,'time_'] = TC[0]\n",
    "            TC = []\n",
    "        j+=1\n",
    "    return Results\n"
   ],
   "outputs": [],
   "metadata": {}
  },
  {
   "cell_type": "code",
   "execution_count": 54,
   "source": [
    "F = randomized(1000)\n",
    "h = solve(F).dropna()\n",
    "h = h.sort_values('time_', ascending = True)\n",
    "print(h)"
   ],
   "outputs": [
    {
     "output_type": "stream",
     "name": "stderr",
     "text": [
      "/Library/Frameworks/Python.framework/Versions/3.9/lib/python3.9/site-packages/scipy/integrate/odepack.py:247: ODEintWarning: Excess work done on this call (perhaps wrong Dfun type). Run with full_output = 1 to get quantitative information.\n",
      "  warnings.warn(warning_msg, ODEintWarning)\n"
     ]
    },
    {
     "output_type": "stream",
     "name": "stdout",
     "text": [
      "Empty DataFrame\n",
      "Columns: [rand_x, rand_y, rand_z, rho_, theta_, phi_, dRho_, dTheta_, dPhi_, Rp_, gamma_, time_]\n",
      "Index: []\n"
     ]
    }
   ],
   "metadata": {}
  },
  {
   "cell_type": "code",
   "execution_count": 47,
   "source": [
    "plt.plot(h['Rp_'],h['time_'])\n",
    "plt.xlabel('Rp')\n",
    "plt.ylabel('Time')\n",
    "plt.show()"
   ],
   "outputs": [
    {
     "output_type": "display_data",
     "data": {
      "image/png": "[encoded data removed]",
      "text/plain": [
       "<Figure size 432x288 with 1 Axes>"
      ]
     },
     "metadata": {
      "needs_background": "light"
     }
    }
   ],
   "metadata": {}
  },
  {
   "cell_type": "code",
   "execution_count": 41,
   "source": [
    "plt.plot(h['Rp_'],h['time_'])\n",
    "plt.xlabel('Rp')\n",
    "plt.ylabel('Time')\n",
    "plt.show()"
   ],
   "outputs": [
    {
     "output_type": "display_data",
     "data": {
      "image/png": "[encoded data removed]",
      "text/plain": [
       "<Figure size 432x288 with 1 Axes>"
      ]
     },
     "metadata": {
      "needs_background": "light"
     }
    }
   ],
   "metadata": {}
  },
  {
   "cell_type": "code",
   "execution_count": null,
   "source": [],
   "outputs": [],
   "metadata": {}
  },
  {
   "cell_type": "code",
   "execution_count": 42,
   "source": [
    "fig, ax = plt.subplots()\n",
    "sns.histplot(h['Rp_'], bins = 10, ax = ax)\n",
    "ax.set_xlim(7.5*10**(-7)-3.75*10**(-8), 7.5*10**(-7)+3.75*10**(-8))\n",
    "plt.show()"
   ],
   "outputs": [
    {
     "output_type": "display_data",
     "data": {
      "image/png": "[encoded data removed]",
      "text/plain": [
       "<Figure size 432x288 with 1 Axes>"
      ]
     },
     "metadata": {
      "needs_background": "light"
     }
    }
   ],
   "metadata": {}
  }
 ],
 "metadata": {
  "orig_nbformat": 4,
  "language_info": {
   "name": "python",
   "version": "3.9.7",
   "mimetype": "text/x-python",
   "codemirror_mode": {
    "name": "ipython",
    "version": 3
   },
   "pygments_lexer": "ipython3",
   "nbconvert_exporter": "python",
   "file_extension": ".py"
  },
  "kernelspec": {
   "name": "python3",
   "display_name": "Python 3.9.7 64-bit"
  },
  "interpreter": {
   "hash": "aee8b7b246df8f9039afb4144a1f6fd8d2ca17a180786b69acc140d282b71a49"
  }
 },
 "nbformat": 4,
 "nbformat_minor": 2
}