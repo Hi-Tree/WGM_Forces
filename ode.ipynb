{
 "cells": [
  {
   "cell_type": "code",
   "execution_count": 105,
   "metadata": {},
   "outputs": [],
   "source": [
    "import numpy as np\n",
    "from pandas.core.frame import DataFrame\n",
    "import forces\n",
    "from scipy.integrate import odeint\n",
    "from scipy.stats import maxwell \n",
    "import matplotlib.pyplot as plt\n",
    "import pandas as pd\n",
    "import seaborn as sns"
   ]
  },
  {
   "cell_type": "markdown",
   "metadata": {},
   "source": [
    "<h2 style=\"color:orange\">Function to create N randomized particles</h2>"
   ]
  },
  {
   "cell_type": "code",
   "execution_count": 106,
   "metadata": {},
   "outputs": [],
   "source": [
    "#Initial Velocities \n",
    "#drho = v_x*np.sin(theta)*np.cos(phi)+v_y*np.sin(theta)*np.sin(phi)+v_z*np.cos(theta)\n",
    "#dtheta = v_x*np.cos(theta)*np.cos(phi)+v_y*np.cos(theta)*np.sin(phi)-v_z*np.sin(theta)\n",
    "#dphi = v_y*np.cos(phi)-v_x*np.sin(phi) \n",
    "\n",
    "# make the randomzed optimize later, add other velocities\n",
    "\n",
    "check = []\n",
    "par = {\n",
    "            'l': 40,\n",
    "            'x_r': 39.107,            \n",
    "            'Rr': 5.6e-5, \n",
    "            'Rp':7.5e-7,\n",
    "            'R_ratio':0,\n",
    "            'n_w': 1.326,\n",
    "            'n_p': 1.572\n",
    "            }"
   ]
  },
  {
   "cell_type": "code",
   "execution_count": 107,
   "metadata": {},
   "outputs": [],
   "source": [
    "lambd = 2*np.pi*par['Rr']/par['x_r']       #lamb = 2*pi / k where k = x/Rr\n",
    "M = (4/3) * np.pi * (par['Rp']**3) *1040   #where density of silica is 1040\n",
    "tao = 0.00048528                           #value obtained from mathematica\n",
    "kbt = 1.38064852e-23 * 300                 #value is in eV\n",
    "alpha = 7.02158e-14\n",
    "stdevTildaV = (4*kbt*(par['Rr']**3))/(3*(2.92291e-8)*(par['Rp']**3)*lambd)\n",
    "vavgTilda = np.sqrt(stdevTildaV)\n",
    "kk=par[\"x_r\"]/par[\"Rr\"]\n",
    "eta = (0.00700175*M)/(vavgTilda*6*np.pi*(par['Rp'])*tao)#Eta is for Average Rp and Average velocity for all cartesian directions"
   ]
  },
  {
   "cell_type": "code",
   "execution_count": 108,
   "metadata": {},
   "outputs": [],
   "source": [
    "def rand(N):\n",
    "    Results = pd.DataFrame(columns=['rand_x','rand_y','rand_z','rho_','theta_','phi_','dRho_','dTheta_','dPhi_','Rp_','gamma_','time_'])\n",
    "    vx=-0.001421\n",
    "    vy=0.006615\n",
    "    vz=0.00112\n",
    "    rho=39.7\n",
    "    theta=1.654382\n",
    "    phi=4.081736\n",
    "    drho=-0.004582\n",
    "    dtheta = vx*np.cos(theta)*np.cos(phi)+vy*np.cos(theta)*np.sin(phi)-vz*np.sin(theta)\n",
    "    dphi = vy*np.cos(phi)-vx*np.sin(phi)\n",
    "    Rp = np.linspace(7.5*10**(-7) - 3.75*10**(-8), 7.5*10**(-7) + 3.75*10**(-8),N)\n",
    "    m = (4/3) * np.pi * (Rp**3) *1040\n",
    "    gamma = (6 * np.pi * eta * tao * Rp)/m\n",
    "    while Results.count()[0] != N:\n",
    "        Results = pd.concat([pd.DataFrame([[vx, vy, vz, rho, theta, phi, drho, dtheta, dphi, None, None, None]],columns = Results.columns),Results],ignore_index = True)\n",
    "    Results['Rp_']=Rp\n",
    "    Results['gamma_']=gamma\n",
    "    return Results\n"
   ]
  },
  {
   "cell_type": "code",
   "execution_count": 109,
   "metadata": {},
   "outputs": [],
   "source": [
    "def randomized(N):\n",
    "    Results = pd.DataFrame(columns=['rand_x','rand_y','rand_z','rho_','theta_','phi_','dRho_','dTheta_','dPhi_','Rp_','gamma_','time_'])\n",
    "    while Results.count()[0] != N:\n",
    "        Rp = np.random.uniform(7.5*10**(-7) - 3.75*10**(-8), 7.5*10**(-7) + 3.75*10**(-8))\n",
    "        #random positions\n",
    "        rho = np.random.uniform(39.107 + ((7.875e-07)*kk) , 39.107 + (3*kk*(7.875e-07))) #3 sizes away\n",
    "        theta = np.random.uniform(((np.pi/2)-np.sqrt(1/40)),((np.pi/2)+np.sqrt(1/40)))\n",
    "        phi = np.random.uniform(0,np.pi*2)\n",
    "        #random velocities\n",
    "        vx = np.random.normal(0,stdevTildaV)\n",
    "        vy = np.random.normal(0,stdevTildaV)\n",
    "        vz = np.random.normal(0,stdevTildaV)\n",
    "        #rhop is density, \n",
    "\n",
    "        m = (4/3) * np.pi * (Rp**3) *1040\n",
    "        gamma = (6 * np.pi * eta * tao * Rp)/m #gamma tilde, average tao not sepcific to size\n",
    "        dtheta = vx*np.cos(theta)*np.cos(phi)+vy*np.cos(theta)*np.sin(phi)-vz*np.sin(theta)\n",
    "        dphi = vy*np.cos(phi)-vx*np.sin(phi)\n",
    "        dRhodT = vx*np.sin(theta)*np.cos(phi)+vy*np.sin(theta)*np.sin(phi)+vz*np.cos(theta) #vrho \n",
    "        Results = pd.concat([pd.DataFrame([[vx, vy, vz, rho, theta, phi, dRhodT, dtheta, dphi, Rp, gamma, None]],columns = Results.columns),Results],ignore_index = True)\n",
    "    return Results"
   ]
  },
  {
   "cell_type": "markdown",
   "metadata": {},
   "source": [
    "<h2 style=\"color:deeppink\">ODE Solver Function</h2>"
   ]
  },
  {
   "cell_type": "code",
   "execution_count": 110,
   "metadata": {},
   "outputs": [],
   "source": [
    "TC = []\n",
    "def f(u, t, par, gamma,Rp):\n",
    "    rho, drho, theta, dtheta, phi, dphi = u     \n",
    "    dudt = [\n",
    "                drho, forces.rho(rho, theta, par) - gamma * drho + rho * (dtheta * np.cos(phi)) ** 2 + rho * dphi ** 2,\n",
    "                dtheta, (forces.theta(rho, theta, par) - gamma * rho * dtheta * np.cos(phi) - 2 * drho * dtheta * np.cos(phi) + 2 * rho * dtheta * dphi * np.sin(phi)) / (rho * np.cos(phi)),\n",
    "                dphi, (forces.phi(rho, theta, par) - gamma * rho * dphi - 2 * drho * dphi - rho * dphi ** 2 * np.sin(phi) * np.cos(phi)) / rho\n",
    "            ]\n",
    "    return dudt"
   ]
  },
  {
   "cell_type": "markdown",
   "metadata": {},
   "source": [
    "<span style=\"color:red\">Automates solution for multiple particles</span>"
   ]
  },
  {
   "cell_type": "code",
   "execution_count": 127,
   "metadata": {},
   "outputs": [],
   "source": [
    "\n",
    "def solve(Results):\n",
    "    k = pd.DataFrame(columns=[\"rho\",\"theta\", \"time\",\"Rp_\"])\n",
    "    g = pd.DataFrame(columns=[\"rho\", \"theta\",\"time\",\"Rp_\"])\n",
    "\n",
    "    j = 0\n",
    "    time = np.linspace(0,40,300)\n",
    "    while j != len(Results.index):\n",
    "        gamma_ = Results['gamma_'][j]\n",
    "        Rp_ = Results['Rp_'][j]\n",
    "        par['R_ratio'] = Rp_/(5.6*10**(-5))  \n",
    "\n",
    "        u0 = [Results['rho_'][j],Results['dRho_'][j], Results['theta_'][j], Results['dTheta_'][j], Results['phi_'][j], Results['dPhi_'][j]]\n",
    "        sol = odeint(f, u0, time, args = (par, gamma_,Rp_))\n",
    "        \n",
    "        k[\"rho\"] = sol[:,0]\n",
    "        k[\"theta\"] = sol[:,2]\n",
    "        k[\"time\"] = time\n",
    "        k[\"Rp_\"] = [Rp_]*300\n",
    "        \n",
    "        k = k[(k.rho <= 39.107+(kk*Rp_)) & (k.rho >= 39.170)].sort_values(by='rho',ascending=False).head(1) #check here to see how is k defined only place to go wrong is here\n",
    "        g = pd.concat([k, g],ignore_index = True)\n",
    "        k = pd.DataFrame(columns=[\"rho\", \"theta\", \"time\", \"Rp_\"])\n",
    "        \n",
    "        j+=1\n",
    "    return [g]\n"
   ]
  },
  {
   "cell_type": "code",
   "execution_count": 128,
   "metadata": {},
   "outputs": [
    {
     "name": "stdout",
     "output_type": "stream",
     "text": [
      "0\n"
     ]
    },
    {
     "name": "stderr",
     "output_type": "stream",
     "text": [
      "/Library/Frameworks/Python.framework/Versions/3.9/lib/python3.9/site-packages/scipy/integrate/odepack.py:247: ODEintWarning: Excess work done on this call (perhaps wrong Dfun type). Run with full_output = 1 to get quantitative information.\n",
      "  warnings.warn(warning_msg, ODEintWarning)\n"
     ]
    },
    {
     "name": "stdout",
     "output_type": "stream",
     "text": [
      "10000\n",
      "20000\n",
      "30000\n",
      "40000\n",
      "50000\n",
      "60000\n",
      "70000\n",
      "80000\n",
      "90000\n"
     ]
    }
   ],
   "source": [
    "#10 runs of 100 solutions pick top 10 fastest in each case and make histogram \n",
    "Res = pd.DataFrame(columns=['rho','theta','time','Rp_'])\n",
    "Res2 = pd.DataFrame(columns=['rho','theta', 'time','Rp_'])\n",
    "Res3 = pd.DataFrame(columns=['rand_x','rand_y','rand_z','rho_','theta_','phi_','dRho_','dTheta_','dPhi_','Rp_','gamma_','time_'])\n",
    "for i in range(100000):\n",
    "    if i%10000 == 0:\n",
    "        print(i)\n",
    "    F = randomized(100)\n",
    "    g = solve(F)\n",
    "    z = g[0].sort_values('time') #everything that reached \n",
    "    top = z.head(1) #the fisrt one that reached \n",
    "    Res = pd.concat([top, Res],ignore_index = True)\n",
    "    Res2 = pd.concat([z, Res2],ignore_index = True)\n",
    "    Res3 = pd.concat([F, Res3],ignore_index = True)\n",
    "\n"
   ]
  },
  {
   "cell_type": "code",
   "execution_count": 130,
   "metadata": {},
   "outputs": [
    {
     "name": "stdout",
     "output_type": "stream",
     "text": [
      "1\n"
     ]
    },
    {
     "data": {
      "image/png": "[encoded data removed]",
      "text/plain": [
       "<Figure size 432x288 with 2 Axes>"
      ]
     },
     "metadata": {
      "needs_background": "light"
     },
     "output_type": "display_data"
    }
   ],
   "source": [
    "plt.rcParams[\"figure.autolayout\"] = True\n",
    "#hi\n",
    "print(1)\n",
    "fig, axes = plt.subplots(1, 2)\n",
    "axes[0].set_xlabel(\"Radius of the particle\")\n",
    "axes[1].set_xlabel(\"Radius of the particle\")\n",
    "axes[0].set_title(\"Size distribution of all particles\")\n",
    "axes[1].set_title(\"Size distribution of particles \\n that landed on the resonator first\")\n",
    "sns.histplot(data = Res, x = 'Rp_', ax=axes[1])\n",
    "sns.histplot(data = Res3, x = 'Rp_', ax=axes[0])\n",
    "plt.show()"
   ]
  },
  {
   "cell_type": "code",
   "execution_count": 129,
   "metadata": {},
   "outputs": [],
   "source": [
    "Res.to_csv('TheOnesThatReachedFirst3_xy.csv')\n",
    "Res2.to_csv('TheOnesThatReachedFromTheTotal3_xy.csv')\n",
    "Res3.to_csv('TotalRandomGeneratedData3_xy.csv')"
   ]
  },
  {
   "cell_type": "code",
   "execution_count": 55,
   "metadata": {},
   "outputs": [
    {
     "data": {
      "text/plain": [
       "Text(0, 0.5, 'Time of arrival')"
      ]
     },
     "execution_count": 55,
     "metadata": {},
     "output_type": "execute_result"
    },
    {
     "data": {
      "image/png": "[encoded data removed]",
      "text/plain": [
       "<Figure size 432x288 with 1 Axes>"
      ]
     },
     "metadata": {
      "needs_background": "light"
     },
     "output_type": "display_data"
    }
   ],
   "source": [
    "F = rand(10)\n",
    "z = solve(F)[0]\n",
    "plt.plot(z[\"Rp_\"],z[\"time\"],\".\")\n",
    "plt.title(\"Rp vs. Arrival Time with\\nconstant positional variables\")\n",
    "plt.xlabel(\"Rp - particle size\")\n",
    "plt.ylabel(\"Time of arrival\")"
   ]
  }
 ],
 "metadata": {
  "interpreter": {
   "hash": "aee8b7b246df8f9039afb4144a1f6fd8d2ca17a180786b69acc140d282b71a49"
  },
  "kernelspec": {
   "display_name": "Python 3.9.7 64-bit",
   "name": "python3"
  },
  "language_info": {
   "codemirror_mode": {
    "name": "ipython",
    "version": 3
   },
   "file_extension": ".py",
   "mimetype": "text/x-python",
   "name": "python",
   "nbconvert_exporter": "python",
   "pygments_lexer": "ipython3",
   "version": "3.9.7"
  },
  "orig_nbformat": 4
 },
 "nbformat": 4,
 "nbformat_minor": 2
}
