{
 "cells": [
  {
   "cell_type": "code",
   "execution_count": 1,
   "source": [
    "import numpy as np\n",
    "from pandas.core.frame import DataFrame\n",
    "import forces\n",
    "from scipy.integrate import odeint\n",
    "from scipy.stats import maxwell \n",
    "import matplotlib.pyplot as plt\n",
    "import pandas as pd\n",
    "import seaborn as sns"
   ],
   "outputs": [],
   "metadata": {}
  },
  {
   "cell_type": "markdown",
   "source": [
    "<h2 style=\"color:orange\">Function to create N randomized particles</h2>"
   ],
   "metadata": {}
  },
  {
   "cell_type": "markdown",
   "source": [
    "Average mass = D*V = 2e-6 * (4 * pi* (7.5e-7)**3)/3\n",
    "tao = sqrt(lambda * Average Mass / A(l,n,p)) =  sqrt(2*Pi/k * Average Mass / 7.02158e-14)\n",
    "Average velocity = 4KbT / 3M"
   ],
   "metadata": {}
  },
  {
   "cell_type": "code",
   "execution_count": 2,
   "source": [
    "par = {\n",
    "            'l': 40,\n",
    "            'x_r': 39.107,            \n",
    "            'Rr': 5.6e-5, \n",
    "            'Rp':7.5e-7,\n",
    "            'R_ratio':0,\n",
    "            'n_w': 1.326,\n",
    "            'n_p': 1.572\n",
    "            }"
   ],
   "outputs": [],
   "metadata": {}
  },
  {
   "cell_type": "code",
   "execution_count": 3,
   "source": [
    "lambd = 2*np.pi*par['Rr']/par['x_r']       #lamb = 2*pi / k where k = x/Rr\n",
    "M = (4/3) * np.pi * (par['Rp']**3) *1040   #where density of silica is 1040\n",
    "tao = 0.00048528                           #value obtained from mathematica\n",
    "kbt = 1.38064852e-23 * 300                 #value is in eV\n",
    "alpha = 7.02158e-14\n",
    "stdevTildaV = (4*kbt*(par['Rr']**3))/(3*(2.92291e-8)*(par['Rp']**3)*lambd)\n",
    "vavgTilda = np.sqrt(stdevTildaV)\n",
    "\n",
    "eta = (0.00700175*M)/(vavgTilda*6*np.pi*(par['Rp'])*tao)#Eta is for Average Rp and Average velocity for all cartesian directions"
   ],
   "outputs": [],
   "metadata": {}
  },
  {
   "cell_type": "code",
   "execution_count": 20,
   "source": [
    "def randomized(N):\n",
    "    Results = pd.DataFrame(columns=['rand_x','rand_y','rand_z','rho_','theta_','phi_','dRho_','dTheta_','dPhi_','Rp_','gamma_','time_'])\n",
    "    while Results.count()[0] != N:\n",
    "        #Rp = np.random.uniform(7.5*10**(-7) - 3.75*10**(-8), 7.5*10**(-7) + 3.75*10**(-8))\n",
    "        Rpi = np.linspace(7.5*10**(-7)- 3.75*10**(-8), 7.5*10**(-7) + 3.75*10**(-8), N)\n",
    "        #random positions\n",
    "        rho = np.random.uniform(39.107,39.107+(2*np.pi))\n",
    "        theta = np.random.uniform(((np.pi/2)-np.sqrt(1/40)),((np.pi/2)+np.sqrt(1/40)))\n",
    "        phi = np.random.uniform(0,np.pi*2)\n",
    "        #random velocities\n",
    "        vx = np.random.normal(0,stdevTildaV)\n",
    "        vy = np.random.normal(0,stdevTildaV)\n",
    "        vz = np.random.normal(0,stdevTildaV)\n",
    "        #rhop is density, \n",
    "\n",
    "        m = (4/3) * np.pi * (Rpi**3) *1040\n",
    "        gamma = (6 * np.pi * eta * tao * Rpi)/m #gamma tilde, average tao not sepcific to size\n",
    "    \n",
    "        dRhodT = vx*np.sin(theta)*np.cos(phi)+vy*np.sin(theta)*np.sin(phi)+vz*np.cos(theta) #vrho \n",
    "        if dRhodT <= 0: #try more numbers forward trajectory of one of the particles \n",
    "            Results = pd.concat([pd.DataFrame([[-0.001421,  0.006615,  0.001120,  39.351469,  1.654382,  4.081736, -0.004582,0,0,None,None,None]],columns = Results.columns),Results],ignore_index = True)\n",
    "    Results['Rp_'] = Rpi\n",
    "    Results['gamma_'] = gamma\n",
    "    return Results"
   ],
   "outputs": [],
   "metadata": {}
  },
  {
   "cell_type": "code",
   "execution_count": 21,
   "source": [
    "randomized(10)"
   ],
   "outputs": [
    {
     "output_type": "execute_result",
     "data": {
      "text/html": [
       "<div>\n",
       "<style scoped>\n",
       "    .dataframe tbody tr th:only-of-type {\n",
       "        vertical-align: middle;\n",
       "    }\n",
       "\n",
       "    .dataframe tbody tr th {\n",
       "        vertical-align: top;\n",
       "    }\n",
       "\n",
       "    .dataframe thead th {\n",
       "        text-align: right;\n",
       "    }\n",
       "</style>\n",
       "<table border=\"1\" class=\"dataframe\">\n",
       "  <thead>\n",
       "    <tr style=\"text-align: right;\">\n",
       "      <th></th>\n",
       "      <th>rand_x</th>\n",
       "      <th>rand_y</th>\n",
       "      <th>rand_z</th>\n",
       "      <th>rho_</th>\n",
       "      <th>theta_</th>\n",
       "      <th>phi_</th>\n",
       "      <th>dRho_</th>\n",
       "      <th>dTheta_</th>\n",
       "      <th>dPhi_</th>\n",
       "      <th>Rp_</th>\n",
       "      <th>gamma_</th>\n",
       "      <th>time_</th>\n",
       "    </tr>\n",
       "  </thead>\n",
       "  <tbody>\n",
       "    <tr>\n",
       "      <th>0</th>\n",
       "      <td>-0.001421</td>\n",
       "      <td>0.006615</td>\n",
       "      <td>0.00112</td>\n",
       "      <td>39.351469</td>\n",
       "      <td>1.654382</td>\n",
       "      <td>4.081736</td>\n",
       "      <td>-0.004582</td>\n",
       "      <td>0</td>\n",
       "      <td>0</td>\n",
       "      <td>7.125000e-07</td>\n",
       "      <td>0.082978</td>\n",
       "      <td>None</td>\n",
       "    </tr>\n",
       "    <tr>\n",
       "      <th>1</th>\n",
       "      <td>-0.001421</td>\n",
       "      <td>0.006615</td>\n",
       "      <td>0.00112</td>\n",
       "      <td>39.351469</td>\n",
       "      <td>1.654382</td>\n",
       "      <td>4.081736</td>\n",
       "      <td>-0.004582</td>\n",
       "      <td>0</td>\n",
       "      <td>0</td>\n",
       "      <td>7.208333e-07</td>\n",
       "      <td>0.081070</td>\n",
       "      <td>None</td>\n",
       "    </tr>\n",
       "    <tr>\n",
       "      <th>2</th>\n",
       "      <td>-0.001421</td>\n",
       "      <td>0.006615</td>\n",
       "      <td>0.00112</td>\n",
       "      <td>39.351469</td>\n",
       "      <td>1.654382</td>\n",
       "      <td>4.081736</td>\n",
       "      <td>-0.004582</td>\n",
       "      <td>0</td>\n",
       "      <td>0</td>\n",
       "      <td>7.291667e-07</td>\n",
       "      <td>0.079228</td>\n",
       "      <td>None</td>\n",
       "    </tr>\n",
       "    <tr>\n",
       "      <th>3</th>\n",
       "      <td>-0.001421</td>\n",
       "      <td>0.006615</td>\n",
       "      <td>0.00112</td>\n",
       "      <td>39.351469</td>\n",
       "      <td>1.654382</td>\n",
       "      <td>4.081736</td>\n",
       "      <td>-0.004582</td>\n",
       "      <td>0</td>\n",
       "      <td>0</td>\n",
       "      <td>7.375000e-07</td>\n",
       "      <td>0.077448</td>\n",
       "      <td>None</td>\n",
       "    </tr>\n",
       "    <tr>\n",
       "      <th>4</th>\n",
       "      <td>-0.001421</td>\n",
       "      <td>0.006615</td>\n",
       "      <td>0.00112</td>\n",
       "      <td>39.351469</td>\n",
       "      <td>1.654382</td>\n",
       "      <td>4.081736</td>\n",
       "      <td>-0.004582</td>\n",
       "      <td>0</td>\n",
       "      <td>0</td>\n",
       "      <td>7.458333e-07</td>\n",
       "      <td>0.075727</td>\n",
       "      <td>None</td>\n",
       "    </tr>\n",
       "    <tr>\n",
       "      <th>5</th>\n",
       "      <td>-0.001421</td>\n",
       "      <td>0.006615</td>\n",
       "      <td>0.00112</td>\n",
       "      <td>39.351469</td>\n",
       "      <td>1.654382</td>\n",
       "      <td>4.081736</td>\n",
       "      <td>-0.004582</td>\n",
       "      <td>0</td>\n",
       "      <td>0</td>\n",
       "      <td>7.541667e-07</td>\n",
       "      <td>0.074062</td>\n",
       "      <td>None</td>\n",
       "    </tr>\n",
       "    <tr>\n",
       "      <th>6</th>\n",
       "      <td>-0.001421</td>\n",
       "      <td>0.006615</td>\n",
       "      <td>0.00112</td>\n",
       "      <td>39.351469</td>\n",
       "      <td>1.654382</td>\n",
       "      <td>4.081736</td>\n",
       "      <td>-0.004582</td>\n",
       "      <td>0</td>\n",
       "      <td>0</td>\n",
       "      <td>7.625000e-07</td>\n",
       "      <td>0.072452</td>\n",
       "      <td>None</td>\n",
       "    </tr>\n",
       "    <tr>\n",
       "      <th>7</th>\n",
       "      <td>-0.001421</td>\n",
       "      <td>0.006615</td>\n",
       "      <td>0.00112</td>\n",
       "      <td>39.351469</td>\n",
       "      <td>1.654382</td>\n",
       "      <td>4.081736</td>\n",
       "      <td>-0.004582</td>\n",
       "      <td>0</td>\n",
       "      <td>0</td>\n",
       "      <td>7.708333e-07</td>\n",
       "      <td>0.070894</td>\n",
       "      <td>None</td>\n",
       "    </tr>\n",
       "    <tr>\n",
       "      <th>8</th>\n",
       "      <td>-0.001421</td>\n",
       "      <td>0.006615</td>\n",
       "      <td>0.00112</td>\n",
       "      <td>39.351469</td>\n",
       "      <td>1.654382</td>\n",
       "      <td>4.081736</td>\n",
       "      <td>-0.004582</td>\n",
       "      <td>0</td>\n",
       "      <td>0</td>\n",
       "      <td>7.791667e-07</td>\n",
       "      <td>0.069386</td>\n",
       "      <td>None</td>\n",
       "    </tr>\n",
       "    <tr>\n",
       "      <th>9</th>\n",
       "      <td>-0.001421</td>\n",
       "      <td>0.006615</td>\n",
       "      <td>0.00112</td>\n",
       "      <td>39.351469</td>\n",
       "      <td>1.654382</td>\n",
       "      <td>4.081736</td>\n",
       "      <td>-0.004582</td>\n",
       "      <td>0</td>\n",
       "      <td>0</td>\n",
       "      <td>7.875000e-07</td>\n",
       "      <td>0.067925</td>\n",
       "      <td>None</td>\n",
       "    </tr>\n",
       "  </tbody>\n",
       "</table>\n",
       "</div>"
      ],
      "text/plain": [
       "     rand_x    rand_y   rand_z       rho_    theta_      phi_     dRho_  \\\n",
       "0 -0.001421  0.006615  0.00112  39.351469  1.654382  4.081736 -0.004582   \n",
       "1 -0.001421  0.006615  0.00112  39.351469  1.654382  4.081736 -0.004582   \n",
       "2 -0.001421  0.006615  0.00112  39.351469  1.654382  4.081736 -0.004582   \n",
       "3 -0.001421  0.006615  0.00112  39.351469  1.654382  4.081736 -0.004582   \n",
       "4 -0.001421  0.006615  0.00112  39.351469  1.654382  4.081736 -0.004582   \n",
       "5 -0.001421  0.006615  0.00112  39.351469  1.654382  4.081736 -0.004582   \n",
       "6 -0.001421  0.006615  0.00112  39.351469  1.654382  4.081736 -0.004582   \n",
       "7 -0.001421  0.006615  0.00112  39.351469  1.654382  4.081736 -0.004582   \n",
       "8 -0.001421  0.006615  0.00112  39.351469  1.654382  4.081736 -0.004582   \n",
       "9 -0.001421  0.006615  0.00112  39.351469  1.654382  4.081736 -0.004582   \n",
       "\n",
       "  dTheta_ dPhi_           Rp_    gamma_ time_  \n",
       "0       0     0  7.125000e-07  0.082978  None  \n",
       "1       0     0  7.208333e-07  0.081070  None  \n",
       "2       0     0  7.291667e-07  0.079228  None  \n",
       "3       0     0  7.375000e-07  0.077448  None  \n",
       "4       0     0  7.458333e-07  0.075727  None  \n",
       "5       0     0  7.541667e-07  0.074062  None  \n",
       "6       0     0  7.625000e-07  0.072452  None  \n",
       "7       0     0  7.708333e-07  0.070894  None  \n",
       "8       0     0  7.791667e-07  0.069386  None  \n",
       "9       0     0  7.875000e-07  0.067925  None  "
      ]
     },
     "metadata": {},
     "execution_count": 21
    }
   ],
   "metadata": {}
  },
  {
   "cell_type": "markdown",
   "source": [
    "<h2 style=\"color:deeppink\">ODE Solver Function</h2>"
   ],
   "metadata": {}
  },
  {
   "cell_type": "code",
   "execution_count": 22,
   "source": [
    "TC = []\n",
    "def f(u, t, par, gamma):\n",
    "        rho, drho, theta, dtheta, phi, dphi = u\n",
    "        dudt = [\n",
    "                drho, forces.rho(rho, theta, par) - gamma * drho + rho * (dtheta * np.cos(phi)) ** 2 + rho * dphi ** 2,\n",
    "                dtheta, (forces.theta(rho, theta, par) - gamma * rho * dtheta * np.cos(phi) - 2 * drho * dtheta * np.cos(phi) + 2 * rho * dtheta * dphi * np.sin(phi)) / (rho * np.cos(phi)),\n",
    "                dphi, (forces.phi(rho, theta, par) - gamma * rho * dphi - 2 * drho * dphi - rho * dphi ** 2 * np.sin(phi) * np.cos(phi)) / rho\n",
    "            ]\n",
    "        if rho <= 39.107: #and theta <= (np.pi/2 + 0.01) and theta >= (np.pi - 0.01):\n",
    "            TC.append(t)\n",
    "            return [None,None,None,None,None,None]\n",
    "        return dudt"
   ],
   "outputs": [],
   "metadata": {}
  },
  {
   "cell_type": "markdown",
   "source": [
    "<span style=\"color:red\">Check</span>"
   ],
   "metadata": {}
  },
  {
   "cell_type": "code",
   "execution_count": 23,
   "source": [
    "\n",
    "def solve(Results):\n",
    "    global TC\n",
    "    j = 0\n",
    "    time = np.linspace(0,200,200)\n",
    "    while j != len(Results.index):\n",
    "        gamma_ = Results['gamma_'][j]\n",
    "        par['R_ratio'] = (Results['Rp_'][j])/(5.6*10**(-5))   \n",
    "        u0 = [Results['rho_'][j],Results['dRho_'][j], Results['theta_'][j], Results['dTheta_'][j], Results['phi_'][j], Results['dPhi_'][j]] \n",
    "        sol = odeint(f, u0, time, args = (par, gamma_))\n",
    "        if len(TC) != 0:\n",
    "            Results.at[j,'time_'] = TC[0]\n",
    "            TC = []\n",
    "        j+=1\n",
    "    return Results\n"
   ],
   "outputs": [],
   "metadata": {}
  },
  {
   "cell_type": "code",
   "execution_count": 27,
   "source": [
    "h = pd.DataFrame(columns=['rand_x', 'rand_y', 'rand_z', 'rho_', 'theta_', 'phi_', 'dRho_',\n",
    "       'dTheta_', 'dPhi_', 'Rp_', 'gamma_', 'time_'])\n",
    "\n",
    "while(len(h.index) <= 200):\n",
    "    F = randomized(500)\n",
    "    z = solve(F).dropna()\n",
    "    h = pd.concat([z, h],ignore_index = True)\n",
    "\n",
    "print(h)\n"
   ],
   "outputs": [
    {
     "output_type": "stream",
     "name": "stdout",
     "text": [
      "       rand_x    rand_y   rand_z       rho_    theta_      phi_     dRho_  \\\n",
      "0   -0.001421  0.006615  0.00112  39.351469  1.654382  4.081736 -0.004582   \n",
      "1   -0.001421  0.006615  0.00112  39.351469  1.654382  4.081736 -0.004582   \n",
      "2   -0.001421  0.006615  0.00112  39.351469  1.654382  4.081736 -0.004582   \n",
      "3   -0.001421  0.006615  0.00112  39.351469  1.654382  4.081736 -0.004582   \n",
      "4   -0.001421  0.006615  0.00112  39.351469  1.654382  4.081736 -0.004582   \n",
      "..        ...       ...      ...        ...       ...       ...       ...   \n",
      "495 -0.001421  0.006615  0.00112  39.351469  1.654382  4.081736 -0.004582   \n",
      "496 -0.001421  0.006615  0.00112  39.351469  1.654382  4.081736 -0.004582   \n",
      "497 -0.001421  0.006615  0.00112  39.351469  1.654382  4.081736 -0.004582   \n",
      "498 -0.001421  0.006615  0.00112  39.351469  1.654382  4.081736 -0.004582   \n",
      "499 -0.001421  0.006615  0.00112  39.351469  1.654382  4.081736 -0.004582   \n",
      "\n",
      "    dTheta_ dPhi_           Rp_    gamma_      time_  \n",
      "0         0     0  7.125000e-07  0.082978   8.316217  \n",
      "1         0     0  7.126503e-07  0.082943  10.224579  \n",
      "2         0     0  7.128006e-07  0.082908   10.22354  \n",
      "3         0     0  7.129509e-07  0.082873  10.222489  \n",
      "4         0     0  7.131012e-07  0.082838  10.221483  \n",
      "..      ...   ...           ...       ...        ...  \n",
      "495       0     0  7.868988e-07  0.068029   7.978636  \n",
      "496       0     0  7.870491e-07  0.068003   7.977575  \n",
      "497       0     0  7.871994e-07  0.067977   7.976547  \n",
      "498       0     0  7.873497e-07  0.067951   7.975499  \n",
      "499       0     0  7.875000e-07  0.067925   7.974479  \n",
      "\n",
      "[500 rows x 12 columns]\n"
     ]
    }
   ],
   "metadata": {}
  },
  {
   "cell_type": "code",
   "execution_count": 28,
   "source": [
    "plt.plot(h['Rp_'],h['time_'],\"o\")\n",
    "plt.xlabel('Rp')\n",
    "plt.ylabel('Time')\n",
    "plt.show()"
   ],
   "outputs": [
    {
     "output_type": "display_data",
     "data": {
      "image/png": "[encoded data removed]",
      "text/plain": [
       "<Figure size 432x288 with 1 Axes>"
      ]
     },
     "metadata": {
      "needs_background": "light"
     }
    }
   ],
   "metadata": {}
  },
  {
   "cell_type": "markdown",
   "source": [
    "<h3 style=\"color:blue\">Histogram</h3>"
   ],
   "metadata": {}
  },
  {
   "cell_type": "code",
   "execution_count": 9,
   "source": [
    "fig, ax = plt.subplots()\n",
    "sns.histplot(h['Rp_'], bins = 10, ax = ax)\n",
    "ax.set_xlim(7.5*10**(-7)-3.75*10**(-8), 7.5*10**(-7)+3.75*10**(-8))\n",
    "plt.show()"
   ],
   "outputs": [
    {
     "output_type": "display_data",
     "data": {
      "image/png": "[encoded data removed]",
      "text/plain": [
       "<Figure size 432x288 with 1 Axes>"
      ]
     },
     "metadata": {
      "needs_background": "light"
     }
    }
   ],
   "metadata": {}
  },
  {
   "cell_type": "markdown",
   "source": [
    "<h3 style=\"color:green\">Individual Trajectories</h3>"
   ],
   "metadata": {}
  },
  {
   "cell_type": "code",
   "execution_count": 10,
   "source": [
    "time = np.linspace(0,200,100)\n",
    "gamma_ =  0.071851\n",
    "u0 = [39.351469,-0.004582 , 1.654382, 0, 4.081736, 0] \n",
    "sol = odeint(f, u0, time, args = (par, gamma_))\n",
    "\n",
    "def indi(sol, time):\n",
    "    fig = plt.figure()\n",
    "    gs = fig.add_gridspec(3, hspace = 0)\n",
    "    axs = gs.subplots(sharex = True)\n",
    "    axs[0].plot(time, sol[:, 0], markersize = 2)\n",
    "    #show resonator's surface\n",
    "    axs[0].axhline(par['x_r'], ls = 'dashed', alpha = 0.5, color = 'red')\n",
    "    axs[0].set_ylabel(r'$\\rho$')\n",
    "    axs[1].plot(time, sol[:, 2], markersize = 2)\n",
    "    axs[1].set_ylabel(r'$\\theta$')\n",
    "    axs[2].plot(time, sol[:, 4], markersize = 2)\n",
    "    axs[2].set_ylabel(r'$\\phi$')\n",
    "\n",
    "    for ax in axs:\n",
    "        ax.label_outer()\n",
    "        \n",
    "    plt.xlabel('Time')\n",
    "    plt.show()\n",
    "\n",
    "indi(sol,time)"
   ],
   "outputs": [
    {
     "output_type": "display_data",
     "data": {
      "image/png": "[encoded data removed]",
      "text/plain": [
       "<Figure size 432x288 with 3 Axes>"
      ]
     },
     "metadata": {
      "needs_background": "light"
     }
    }
   ],
   "metadata": {}
  }
 ],
 "metadata": {
  "orig_nbformat": 4,
  "language_info": {
   "name": "python",
   "version": "3.9.7",
   "mimetype": "text/x-python",
   "codemirror_mode": {
    "name": "ipython",
    "version": 3
   },
   "pygments_lexer": "ipython3",
   "nbconvert_exporter": "python",
   "file_extension": ".py"
  },
  "kernelspec": {
   "name": "python3",
   "display_name": "Python 3.9.7 64-bit"
  },
  "interpreter": {
   "hash": "aee8b7b246df8f9039afb4144a1f6fd8d2ca17a180786b69acc140d282b71a49"
  }
 },
 "nbformat": 4,
 "nbformat_minor": 2
}