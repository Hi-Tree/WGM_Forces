{
 "cells": [
  {
   "cell_type": "code",
   "execution_count": 2,
   "source": [
    "import numpy as np\n",
    "from pandas.core.frame import DataFrame\n",
    "import forces\n",
    "from scipy.integrate import odeint\n",
    "from scipy.stats import maxwell \n",
    "import matplotlib.pyplot as plt\n",
    "import pandas as pd\n",
    "import seaborn as sns"
   ],
   "outputs": [],
   "metadata": {}
  },
  {
   "cell_type": "markdown",
   "source": [
    "<h2 style=\"color:orange\">Function to create N randomized particles</h2>"
   ],
   "metadata": {}
  },
  {
   "cell_type": "markdown",
   "source": [
    "Average mass = D*V = 2e-6 * (4 * pi* (7.5e-7)**3)/3\n",
    "tao = sqrt(lambda * Average Mass / A(l,n,p)) =  sqrt(2*Pi/k * Average Mass / 7.02158e-14)\n",
    "Average velocity = 4KbT / 3M"
   ],
   "metadata": {}
  },
  {
   "cell_type": "code",
   "execution_count": 3,
   "source": [
    "par = {\n",
    "            'l': 40,\n",
    "            'x_r': 39.107,            \n",
    "            'Rr': 5.6e-5, \n",
    "            'Rp':7.5e-7,\n",
    "            'R_ratio':0,\n",
    "            'n_w': 1.326,\n",
    "            'n_p': 1.572\n",
    "            }"
   ],
   "outputs": [],
   "metadata": {}
  },
  {
   "cell_type": "code",
   "execution_count": 4,
   "source": [
    "lambd = 2*np.pi*par['Rr']/par['x_r']       #lamb = 2*pi / k where k = x/Rr\n",
    "M = (4/3) * np.pi * (par['Rp']**3) *1040   #where density of silica is 1040\n",
    "tao = 0.00048528                           #value obtained from mathematica\n",
    "kbt = 1.38064852e-23 * 300                 #value is in eV\n",
    "alpha = 7.02158e-14\n",
    "stdevTildaV = (4*kbt*(par['Rr']**3))/(3*(2.92291e-8)*(par['Rp']**3)*lambd)\n",
    "vavgTilda = np.sqrt(stdevTildaV)\n",
    "\n",
    "eta = (0.00700175*M)/(vavgTilda*6*np.pi*(par['Rp'])*tao)#Eta is for Average Rp and Average velocity for all cartesian directions"
   ],
   "outputs": [],
   "metadata": {}
  },
  {
   "cell_type": "code",
   "execution_count": 23,
   "source": [
    "def randomized(N):\n",
    "    Results = pd.DataFrame(columns=['rand_x','rand_y','rand_z','rho_','theta_','phi_','dRho_','dTheta_','dPhi_','Rp_','gamma_','time_'])\n",
    "    while Results.count()[0] != N:\n",
    "        Rp = np.random.uniform(7.5*10**(-7) - 3.75*10**(-8), 7.5*10**(-7) + 3.75*10**(-8))\n",
    "        #random positions\n",
    "        rho = np.random.uniform(39.107,39.107+(2*np.pi))\n",
    "        theta = np.random.uniform(((np.pi/2)-np.sqrt(1/40)),((np.pi/2)+np.sqrt(1/40)))\n",
    "        phi = np.random.uniform(0,np.pi*2)\n",
    "        #random velocities\n",
    "        vx = np.random.normal(0,stdevTildaV)\n",
    "        vy = np.random.normal(0,stdevTildaV)\n",
    "        vz = np.random.normal(0,stdevTildaV)\n",
    "        #rhop is density, \n",
    "\n",
    "        m = (4/3) * np.pi * (Rp**3) *1040\n",
    "        gamma = (6 * np.pi * eta * tao * Rp)/m #gamma tilde, average tao not sepcific to size\n",
    "    \n",
    "        dRhodT = vx*np.sin(theta)*np.cos(phi)+vy*np.sin(theta)*np.sin(phi)+vz*np.cos(theta) #vrho \n",
    "        if dRhodT <= 0: #try more numbers forward trajectory of one of the particles \n",
    "            Results = pd.concat([pd.DataFrame([[-0.001421,  0.006615,  0.001120,  39.351469,  1.654382,  4.081736, -0.004582,0,0,Rp,0.071851,None]],columns = Results.columns),Results],ignore_index = True)\n",
    "    return Results"
   ],
   "outputs": [],
   "metadata": {}
  },
  {
   "cell_type": "markdown",
   "source": [
    "<h2 style=\"color:deeppink\">ODE Solver Function</h2>"
   ],
   "metadata": {}
  },
  {
   "cell_type": "code",
   "execution_count": 24,
   "source": [
    "TC = []\n",
    "def f(u, t, par, gamma):\n",
    "        rho, drho, theta, dtheta, phi, dphi = u\n",
    "        dudt = [\n",
    "                drho, forces.rho(rho, theta, par) - gamma * drho + rho * (dtheta * np.cos(phi)) ** 2 + rho * dphi ** 2,\n",
    "                dtheta, (forces.theta(rho, theta, par) - gamma * rho * dtheta * np.cos(phi) - 2 * drho * dtheta * np.cos(phi) + 2 * rho * dtheta * dphi * np.sin(phi)) / (rho * np.cos(phi)),\n",
    "                dphi, (forces.phi(rho, theta, par) - gamma * rho * dphi - 2 * drho * dphi - rho * dphi ** 2 * np.sin(phi) * np.cos(phi)) / rho\n",
    "            ]\n",
    "        if rho <= 39.107: #and theta <= (np.pi/2 + 0.01) and theta >= (np.pi - 0.01):\n",
    "            TC.append(t)\n",
    "            return [None,None,None,None,None,None]\n",
    "        return dudt"
   ],
   "outputs": [],
   "metadata": {}
  },
  {
   "cell_type": "markdown",
   "source": [
    "<span style=\"color:red\">Check</span>"
   ],
   "metadata": {}
  },
  {
   "cell_type": "code",
   "execution_count": 37,
   "source": [
    "\n",
    "def solve(Results):\n",
    "    global TC\n",
    "    j = 0\n",
    "    time = np.linspace(0,200,200)\n",
    "    while j != len(Results.index):\n",
    "        gamma_ = Results['gamma_'][j]\n",
    "        par['R_ratio'] = (Results['Rp_'][j])/(5.6*10**(-5))   \n",
    "        u0 = [Results['rho_'][j],Results['dRho_'][j], Results['theta_'][j], Results['dTheta_'][j], Results['phi_'][j], Results['dPhi_'][j]] \n",
    "        sol = odeint(f, u0, time, args = (par, gamma_))\n",
    "        if len(TC) != 0:\n",
    "            Results.at[j,'time_'] = TC[0]\n",
    "            TC = []\n",
    "        j+=1\n",
    "    return Results\n"
   ],
   "outputs": [],
   "metadata": {}
  },
  {
   "cell_type": "code",
   "execution_count": 38,
   "source": [
    "h = pd.DataFrame(columns=['rand_x', 'rand_y', 'rand_z', 'rho_', 'theta_', 'phi_', 'dRho_',\n",
    "       'dTheta_', 'dPhi_', 'Rp_', 'gamma_', 'time_'])\n",
    "\n",
    "while(len(h.index) <= 2000):\n",
    "    F = randomized(10)\n",
    "    z = solve(F).dropna()\n",
    "    h = pd.concat([z, h],ignore_index = True)\n",
    "\n",
    "print(h)\n"
   ],
   "outputs": [
    {
     "output_type": "stream",
     "name": "stdout",
     "text": [
      "        rand_x    rand_y   rand_z       rho_    theta_      phi_     dRho_  \\\n",
      "0    -0.001421  0.006615  0.00112  39.351469  1.654382  4.081736 -0.004582   \n",
      "1    -0.001421  0.006615  0.00112  39.351469  1.654382  4.081736 -0.004582   \n",
      "2    -0.001421  0.006615  0.00112  39.351469  1.654382  4.081736 -0.004582   \n",
      "3    -0.001421  0.006615  0.00112  39.351469  1.654382  4.081736 -0.004582   \n",
      "4    -0.001421  0.006615  0.00112  39.351469  1.654382  4.081736 -0.004582   \n",
      "...        ...       ...      ...        ...       ...       ...       ...   \n",
      "2005 -0.001421  0.006615  0.00112  39.351469  1.654382  4.081736 -0.004582   \n",
      "2006 -0.001421  0.006615  0.00112  39.351469  1.654382  4.081736 -0.004582   \n",
      "2007 -0.001421  0.006615  0.00112  39.351469  1.654382  4.081736 -0.004582   \n",
      "2008 -0.001421  0.006615  0.00112  39.351469  1.654382  4.081736 -0.004582   \n",
      "2009 -0.001421  0.006615  0.00112  39.351469  1.654382  4.081736 -0.004582   \n",
      "\n",
      "     dTheta_ dPhi_           Rp_    gamma_     time_  \n",
      "0          0     0  7.444447e-07  0.071851  9.261936  \n",
      "1          0     0  7.392023e-07  0.071851  9.297748  \n",
      "2          0     0  7.179419e-07  0.071851  9.453779  \n",
      "3          0     0  7.596329e-07  0.071851  8.814718  \n",
      "4          0     0  7.827748e-07  0.071851  7.818848  \n",
      "...      ...   ...           ...       ...       ...  \n",
      "2005       0     0  7.847479e-07  0.071851  7.810926  \n",
      "2006       0     0  7.829014e-07  0.071851  7.818321  \n",
      "2007       0     0  7.850975e-07  0.071851  7.809543  \n",
      "2008       0     0  7.505414e-07  0.071851  8.854084  \n",
      "2009       0     0  7.616090e-07  0.071851  8.806672  \n",
      "\n",
      "[2010 rows x 12 columns]\n"
     ]
    }
   ],
   "metadata": {}
  },
  {
   "cell_type": "code",
   "execution_count": 36,
   "source": [
    "plt.plot(h['Rp_'],h['time_'],\"o\")\n",
    "plt.xlabel('Rp')\n",
    "plt.ylabel('Time')\n",
    "plt.show()"
   ],
   "outputs": [
    {
     "output_type": "display_data",
     "data": {
      "image/png": "[encoded data removed]",
      "text/plain": [
       "<Figure size 432x288 with 1 Axes>"
      ]
     },
     "metadata": {
      "needs_background": "light"
     }
    }
   ],
   "metadata": {}
  },
  {
   "cell_type": "markdown",
   "source": [
    "<h3 style=\"color:blue\">Histogram</h3>"
   ],
   "metadata": {}
  },
  {
   "cell_type": "code",
   "execution_count": 39,
   "source": [
    "fig, ax = plt.subplots()\n",
    "sns.histplot(h['Rp_'], bins = 10, ax = ax)\n",
    "ax.set_xlim(7.5*10**(-7)-3.75*10**(-8), 7.5*10**(-7)+3.75*10**(-8))\n",
    "plt.show()"
   ],
   "outputs": [
    {
     "output_type": "display_data",
     "data": {
      "image/png": "[encoded data removed]",
      "text/plain": [
       "<Figure size 432x288 with 1 Axes>"
      ]
     },
     "metadata": {
      "needs_background": "light"
     }
    }
   ],
   "metadata": {}
  },
  {
   "cell_type": "markdown",
   "source": [
    "<h3 style=\"color:green\">Individual Trajectories</h3>"
   ],
   "metadata": {}
  },
  {
   "cell_type": "code",
   "execution_count": 34,
   "source": [
    "time = np.linspace(0,200,100)\n",
    "gamma_ =  0.071851\n",
    "u0 = [39.351469,-0.004582 , 1.654382, 0, 4.081736, 0] \n",
    "sol = odeint(f, u0, time, args = (par, gamma_))\n",
    "\n",
    "def indi(sol, time):\n",
    "    fig = plt.figure()\n",
    "    gs = fig.add_gridspec(3, hspace = 0)\n",
    "    axs = gs.subplots(sharex = True)\n",
    "    axs[0].plot(time, sol[:, 0], markersize = 2)\n",
    "    #show resonator's surface\n",
    "    axs[0].axhline(par['x_r'], ls = 'dashed', alpha = 0.5, color = 'red')\n",
    "    axs[0].set_ylabel(r'$\\rho$')\n",
    "    axs[1].plot(time, sol[:, 2], markersize = 2)\n",
    "    axs[1].set_ylabel(r'$\\theta$')\n",
    "    axs[2].plot(time, sol[:, 4], markersize = 2)\n",
    "    axs[2].set_ylabel(r'$\\phi$')\n",
    "\n",
    "    for ax in axs:\n",
    "        ax.label_outer()\n",
    "        \n",
    "    plt.xlabel('Time')\n",
    "    plt.show()\n",
    "\n",
    "indi(sol,time)"
   ],
   "outputs": [
    {
     "output_type": "display_data",
     "data": {
      "image/png": "[encoded data removed]",
      "text/plain": [
       "<Figure size 432x288 with 3 Axes>"
      ]
     },
     "metadata": {
      "needs_background": "light"
     }
    }
   ],
   "metadata": {}
  }
 ],
 "metadata": {
  "orig_nbformat": 4,
  "language_info": {
   "name": "python",
   "version": "3.9.7",
   "mimetype": "text/x-python",
   "codemirror_mode": {
    "name": "ipython",
    "version": 3
   },
   "pygments_lexer": "ipython3",
   "nbconvert_exporter": "python",
   "file_extension": ".py"
  },
  "kernelspec": {
   "name": "python3",
   "display_name": "Python 3.9.7 64-bit"
  },
  "interpreter": {
   "hash": "aee8b7b246df8f9039afb4144a1f6fd8d2ca17a180786b69acc140d282b71a49"
  }
 },
 "nbformat": 4,
 "nbformat_minor": 2
}