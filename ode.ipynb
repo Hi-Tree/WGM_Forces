{
 "cells": [
  {
   "cell_type": "code",
   "execution_count": 1,
   "source": [
    "import numpy as np\n",
    "from pandas.core.frame import DataFrame\n",
    "import forces\n",
    "from scipy.integrate import odeint\n",
    "from scipy.stats import maxwell \n",
    "import matplotlib.pyplot as plt\n",
    "import pandas as pd\n",
    "import seaborn as sns"
   ],
   "outputs": [],
   "metadata": {}
  },
  {
   "cell_type": "markdown",
   "source": [
    "<h2 style=\"color:orange\">Function to create N randomized particles</h2>"
   ],
   "metadata": {}
  },
  {
   "cell_type": "markdown",
   "source": [
    "Average mass = D*V = 2e-6 * (4 * pi* (7.5e-7)**3)/3\n",
    "tao = sqrt(lambda * Average Mass / A(l,n,p)) =  sqrt(2*Pi/k * Average Mass / 7.02158e-14)\n",
    "Average velocity = 4KbT / 3M"
   ],
   "metadata": {}
  },
  {
   "cell_type": "code",
   "execution_count": 2,
   "source": [
    "lambd = 2*np.pi*39.107/(5.6e-5)\n",
    "M = 2e-6 * (4 * np.pi* (7.5e-7)**3)/3\n",
    "tao = 0.00048528\n",
    "kbt = 1.38064852e-23 * 300 \n",
    "vavg = (4*kbt) / (3*M)\n",
    "vavgTilda = tao*vavg/lambd #1040kg/m^3"
   ],
   "outputs": [],
   "metadata": {}
  },
  {
   "cell_type": "code",
   "execution_count": 36,
   "source": [
    "def randomized(N):\n",
    "    Results = pd.DataFrame(columns=['rand_x','rand_y','rand_z','rho_','theta_','phi_','dRho_','dTheta_','dPhi_','Rp_','gamma_','time_'])\n",
    "    eta = (0.00700175)/(vavgTilda*6*np.pi*(7.5*10**(-7)))#Eta is for Average Rp and Average velocity for all cartesian directions\n",
    "    while Results.count()[0] != N:\n",
    "        Rp = np.random.uniform(7.5*10**(-7) - 3.75*10**(-8), 7.5*10**(-7) + 3.75*10**(-8))\n",
    "        rho = np.random.uniform(39.107,39.107+(2*np.pi))\n",
    "        theta = np.random.uniform((np.pi-np.sqrt(1/40)),(np.pi+np.sqrt(1/40)))\n",
    "        phi = np.random.uniform(0,np.pi*2)\n",
    "        vx = np.random.normal(0,vavgTilda)\n",
    "        vy = np.random.normal(0,vavgTilda)\n",
    "        vz = np.random.normal(0,vavgTilda)\n",
    "\n",
    "#rhop is density, \n",
    "\n",
    "        \n",
    "        gamma = (9*tao*eta)/(2*Rp*rho)#gamma tilde \n",
    "\n",
    "\n",
    "        \n",
    "        dRhodT = vx*np.sin(theta)*np.cos(phi)+vy*np.sin(theta)*np.sin(phi)+vz*np.cos(theta) #vrho \n",
    "        if dRhodT <= 0: #try more numbers forward trajectory of one of the particles \n",
    "            Results = pd.concat([pd.DataFrame([[vx,vy,vz,rho,theta,phi,dRhodT,0,0,Rp,gamma,None]],columns = Results.columns),Results],ignore_index = True)\n",
    "    return Results"
   ],
   "outputs": [],
   "metadata": {}
  },
  {
   "cell_type": "code",
   "execution_count": 37,
   "source": [
    "print(randomized(4))"
   ],
   "outputs": [
    {
     "output_type": "stream",
     "name": "stdout",
     "text": [
      "         rand_x        rand_y        rand_z       rho_    theta_      phi_  \\\n",
      "0  1.129554e-08 -9.717631e-08  3.752542e-08  40.590439  3.249173  2.607208   \n",
      "1 -3.858588e-07 -1.169883e-07  1.766549e-07  41.628741  3.019926  5.280882   \n",
      "2  7.970087e-08  1.094309e-07  3.549757e-08  45.011532  3.299391  5.068558   \n",
      "3 -3.553014e-08 -2.124642e-07  1.859323e-07  43.676904  3.214849  2.052110   \n",
      "\n",
      "          dRho_ dTheta_ dPhi_           Rp_        gamma_ time_  \n",
      "0 -3.095054e-08       0     0  7.494504e-07  2.057291e+11  None  \n",
      "1 -1.885955e-07       0     0  7.340171e-07  2.048155e+11  None  \n",
      "2 -2.330648e-08       0     0  7.284318e-07  1.908753e+11  None  \n",
      "3 -1.728538e-07       0     0  7.588439e-07  1.888244e+11  None  \n"
     ]
    }
   ],
   "metadata": {}
  },
  {
   "cell_type": "markdown",
   "source": [
    "<h2 style=\"color:deeppink\">ODE Solver Function</h2>"
   ],
   "metadata": {}
  },
  {
   "cell_type": "code",
   "execution_count": 38,
   "source": [
    "TC = []\n",
    "def f(u, t, par, gamma):\n",
    "        rho, drho, theta, dtheta, phi, dphi = u\n",
    "        dudt = [\n",
    "                drho, forces.rho(rho, theta, par) - gamma * drho + rho * (dtheta * np.cos(phi)) ** 2 + rho * dphi ** 2,\n",
    "                dtheta, (forces.theta(rho, theta, par) - gamma * rho * dtheta * np.cos(phi) - 2 * drho * dtheta * np.cos(phi) + 2 * rho * dtheta * dphi * np.sin(phi)) / (rho * np.cos(phi)),\n",
    "                dphi, (forces.phi(rho, theta, par) - gamma * rho * dphi - 2 * drho * dphi - rho * dphi ** 2 * np.sin(phi) * np.cos(phi)) / rho\n",
    "            ]\n",
    "        if rho <= 39.107: #and theta <= (np.pi/2 + 0.01) and theta >= (np.pi - 0.01):\n",
    "            TC.append(t)\n",
    "            return [None,None,None,None,None,None]\n",
    "        return dudt"
   ],
   "outputs": [],
   "metadata": {}
  },
  {
   "cell_type": "code",
   "execution_count": 39,
   "source": [
    "\n",
    "def solve(Results):\n",
    "    global TC\n",
    "    j = 0\n",
    "    time = np.linspace(0,20,100)\n",
    "    while j != len(F.index):\n",
    "        gamma_ = Results['gamma_'][j]\n",
    "        par = {\n",
    "            'l': 40,\n",
    "            'x_r': 39.107,            \n",
    "            'R_ratio': (Results['Rp_'][j])/(5.6*10**(-5)), \n",
    "            'n_w': 1.326,\n",
    "            'n_p': 1.572\n",
    "            }\n",
    "        u0 = [Results['rho_'][j],Results['dRho_'][j], Results['theta_'][j], Results['dTheta_'][j], Results['phi_'][j], Results['dPhi_'][j]] \n",
    "        sol = odeint(f, u0, time, args = (par, gamma_))\n",
    "        if len(TC) != 0:\n",
    "            Results.at[j,'time_'] = TC[0]\n",
    "            TC = []\n",
    "        j+=1\n",
    "    return Results\n"
   ],
   "outputs": [],
   "metadata": {}
  },
  {
   "cell_type": "code",
   "execution_count": 40,
   "source": [
    "F = randomized(10)\n",
    "h = solve(F).dropna()\n",
    "h = h.sort_values('time_', ascending = True)\n",
    "print(h)"
   ],
   "outputs": [
    {
     "output_type": "stream",
     "name": "stdout",
     "text": [
      "Empty DataFrame\n",
      "Columns: [rand_x, rand_y, rand_z, rho_, theta_, phi_, dRho_, dTheta_, dPhi_, Rp_, gamma_, time_]\n",
      "Index: []\n"
     ]
    }
   ],
   "metadata": {}
  },
  {
   "cell_type": "code",
   "execution_count": 16,
   "source": [
    "plt.plot(h['Rp_'],h['time_'])\n",
    "plt.xlabel('Rp')\n",
    "plt.ylabel('Time')\n",
    "plt.show()"
   ],
   "outputs": [
    {
     "output_type": "display_data",
     "data": {
      "image/png": "[encoded data removed]",
      "text/plain": [
       "<Figure size 432x288 with 1 Axes>"
      ]
     },
     "metadata": {
      "needs_background": "light"
     }
    }
   ],
   "metadata": {}
  },
  {
   "cell_type": "code",
   "execution_count": null,
   "source": [
    "plt.plot(h['Rp_'],h['time_'])\n",
    "plt.xlabel('Rp')\n",
    "plt.ylabel('Time')\n",
    "plt.show()"
   ],
   "outputs": [
    {
     "output_type": "display_data",
     "data": {
      "image/png": "[encoded data removed]",
      "text/plain": [
       "<Figure size 432x288 with 1 Axes>"
      ]
     },
     "metadata": {
      "needs_background": "light"
     }
    }
   ],
   "metadata": {}
  },
  {
   "cell_type": "code",
   "execution_count": null,
   "source": [],
   "outputs": [],
   "metadata": {}
  },
  {
   "cell_type": "code",
   "execution_count": null,
   "source": [
    "fig, ax = plt.subplots()\n",
    "sns.histplot(h['Rp_'], bins = 10, ax = ax)\n",
    "ax.set_xlim(7.5*10**(-7)-3.75*10**(-8), 7.5*10**(-7)+3.75*10**(-8))\n",
    "plt.show()"
   ],
   "outputs": [
    {
     "output_type": "display_data",
     "data": {
      "image/png": "[encoded data removed]",
      "text/plain": [
       "<Figure size 432x288 with 1 Axes>"
      ]
     },
     "metadata": {
      "needs_background": "light"
     }
    }
   ],
   "metadata": {}
  }
 ],
 "metadata": {
  "orig_nbformat": 4,
  "language_info": {
   "name": "python",
   "version": "3.9.7",
   "mimetype": "text/x-python",
   "codemirror_mode": {
    "name": "ipython",
    "version": 3
   },
   "pygments_lexer": "ipython3",
   "nbconvert_exporter": "python",
   "file_extension": ".py"
  },
  "kernelspec": {
   "name": "python3",
   "display_name": "Python 3.9.7 64-bit"
  },
  "interpreter": {
   "hash": "aee8b7b246df8f9039afb4144a1f6fd8d2ca17a180786b69acc140d282b71a49"
  }
 },
 "nbformat": 4,
 "nbformat_minor": 2
}