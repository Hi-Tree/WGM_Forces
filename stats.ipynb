{
 "cells": [
  {
   "cell_type": "code",
   "execution_count": 1,
   "source": [
    "import pandas as pd\n",
    "import numpy as np\n",
    "import seaborn as sns\n",
    "import matplotlib.pyplot as plt\n",
    "import math as m"
   ],
   "outputs": [],
   "metadata": {}
  },
  {
   "cell_type": "code",
   "execution_count": 2,
   "source": [
    "first = pd.read_csv(\"/Users/physica/Desktop/Archive/TheOnesThatReachedFirst1.csv\")\n",
    "reach = pd.read_csv(\"/Users/physica/Desktop/Archive/TheOnesThatReachedFromTheTotal1.csv\")\n",
    "allGen = pd.read_csv(\"/Users/physica/Desktop/Archive/TotalRandomGeneratedData1.csv\")"
   ],
   "outputs": [],
   "metadata": {}
  },
  {
   "cell_type": "code",
   "execution_count": 47,
   "source": [
    "\n",
    "plt.rcParams[\"figure.autolayout\"] = True\n",
    "\n",
    "fig, axes = plt.subplots(1, 2)\n",
    "axes[0].set_xlabel(\"Radius of the particle\")\n",
    "axes[1].set_xlabel(\"Radius of the particle\")\n",
    "axes[0].set_title(\"Size distribution of all particles\")\n",
    "axes[1].set_title(\"Size distribution of particles \\n that landed on the resonator first\")\n",
    "sns.histplot(data = first, x = 'Rp_', ax=axes[1])\n",
    "sns.histplot(data = allGen, x = 'Rp_', ax=axes[0])\n",
    "plt.show()"
   ],
   "outputs": [
    {
     "output_type": "display_data",
     "data": {
      "image/png": "[encoded data removed]",
      "text/plain": [
       "<Figure size 540x252 with 2 Axes>"
      ]
     },
     "metadata": {
      "needs_background": "light"
     }
    }
   ],
   "metadata": {}
  },
  {
   "cell_type": "code",
   "execution_count": 48,
   "source": [
    "first = first.sort_values(\"time\")\n",
    "first"
   ],
   "outputs": [
    {
     "output_type": "execute_result",
     "data": {
      "text/html": [
       "<div>\n",
       "<style scoped>\n",
       "    .dataframe tbody tr th:only-of-type {\n",
       "        vertical-align: middle;\n",
       "    }\n",
       "\n",
       "    .dataframe tbody tr th {\n",
       "        vertical-align: top;\n",
       "    }\n",
       "\n",
       "    .dataframe thead th {\n",
       "        text-align: right;\n",
       "    }\n",
       "</style>\n",
       "<table border=\"1\" class=\"dataframe\">\n",
       "  <thead>\n",
       "    <tr style=\"text-align: right;\">\n",
       "      <th></th>\n",
       "      <th>Unnamed: 0</th>\n",
       "      <th>rho</th>\n",
       "      <th>time</th>\n",
       "      <th>Rp_</th>\n",
       "    </tr>\n",
       "  </thead>\n",
       "  <tbody>\n",
       "    <tr>\n",
       "      <th>4426</th>\n",
       "      <td>4426</td>\n",
       "      <td>39.106439</td>\n",
       "      <td>0.100100</td>\n",
       "      <td>7.422990e-07</td>\n",
       "    </tr>\n",
       "    <tr>\n",
       "      <th>1008</th>\n",
       "      <td>1008</td>\n",
       "      <td>39.106957</td>\n",
       "      <td>0.100100</td>\n",
       "      <td>7.514652e-07</td>\n",
       "    </tr>\n",
       "    <tr>\n",
       "      <th>16337</th>\n",
       "      <td>16337</td>\n",
       "      <td>39.105717</td>\n",
       "      <td>0.100100</td>\n",
       "      <td>7.202335e-07</td>\n",
       "    </tr>\n",
       "    <tr>\n",
       "      <th>13103</th>\n",
       "      <td>13103</td>\n",
       "      <td>39.106650</td>\n",
       "      <td>0.100100</td>\n",
       "      <td>7.327499e-07</td>\n",
       "    </tr>\n",
       "    <tr>\n",
       "      <th>13264</th>\n",
       "      <td>13264</td>\n",
       "      <td>39.106915</td>\n",
       "      <td>0.100100</td>\n",
       "      <td>7.691893e-07</td>\n",
       "    </tr>\n",
       "    <tr>\n",
       "      <th>...</th>\n",
       "      <td>...</td>\n",
       "      <td>...</td>\n",
       "      <td>...</td>\n",
       "      <td>...</td>\n",
       "    </tr>\n",
       "    <tr>\n",
       "      <th>17428</th>\n",
       "      <td>17428</td>\n",
       "      <td>39.101545</td>\n",
       "      <td>19.219219</td>\n",
       "      <td>7.759492e-07</td>\n",
       "    </tr>\n",
       "    <tr>\n",
       "      <th>10889</th>\n",
       "      <td>10889</td>\n",
       "      <td>39.105734</td>\n",
       "      <td>19.619620</td>\n",
       "      <td>7.512636e-07</td>\n",
       "    </tr>\n",
       "    <tr>\n",
       "      <th>6438</th>\n",
       "      <td>6438</td>\n",
       "      <td>39.105326</td>\n",
       "      <td>19.919920</td>\n",
       "      <td>7.682882e-07</td>\n",
       "    </tr>\n",
       "    <tr>\n",
       "      <th>11473</th>\n",
       "      <td>11473</td>\n",
       "      <td>39.104237</td>\n",
       "      <td>21.021021</td>\n",
       "      <td>7.712047e-07</td>\n",
       "    </tr>\n",
       "    <tr>\n",
       "      <th>3371</th>\n",
       "      <td>3371</td>\n",
       "      <td>39.104045</td>\n",
       "      <td>22.422422</td>\n",
       "      <td>7.801874e-07</td>\n",
       "    </tr>\n",
       "  </tbody>\n",
       "</table>\n",
       "<p>20000 rows × 4 columns</p>\n",
       "</div>"
      ],
      "text/plain": [
       "       Unnamed: 0        rho       time           Rp_\n",
       "4426         4426  39.106439   0.100100  7.422990e-07\n",
       "1008         1008  39.106957   0.100100  7.514652e-07\n",
       "16337       16337  39.105717   0.100100  7.202335e-07\n",
       "13103       13103  39.106650   0.100100  7.327499e-07\n",
       "13264       13264  39.106915   0.100100  7.691893e-07\n",
       "...           ...        ...        ...           ...\n",
       "17428       17428  39.101545  19.219219  7.759492e-07\n",
       "10889       10889  39.105734  19.619620  7.512636e-07\n",
       "6438         6438  39.105326  19.919920  7.682882e-07\n",
       "11473       11473  39.104237  21.021021  7.712047e-07\n",
       "3371         3371  39.104045  22.422422  7.801874e-07\n",
       "\n",
       "[20000 rows x 4 columns]"
      ]
     },
     "metadata": {},
     "execution_count": 48
    }
   ],
   "metadata": {}
  },
  {
   "cell_type": "markdown",
   "source": [
    "<span>Statistics</span>"
   ],
   "metadata": {}
  },
  {
   "cell_type": "code",
   "execution_count": 3,
   "source": [
    "def norm(array):\n",
    "    return (array-min(array))/(max(array)-min(array))"
   ],
   "outputs": [],
   "metadata": {}
  },
  {
   "cell_type": "code",
   "execution_count": 52,
   "source": [
    "allGen_norm = norm(allGen.Rp_.to_numpy())\n"
   ],
   "outputs": [
    {
     "output_type": "execute_result",
     "data": {
      "text/plain": [
       "1.0"
      ]
     },
     "metadata": {},
     "execution_count": 52
    }
   ],
   "metadata": {}
  },
  {
   "cell_type": "code",
   "execution_count": 5,
   "source": [
    "def nCr(n, r):\n",
    "     \n",
    "    return (fact(n) / (fact(r)\n",
    "                * fact(n - r)))\n",
    "\n",
    "def fact(n):\n",
    "    if n == 0:\n",
    "        return 1\n",
    "    res = 1\n",
    "     \n",
    "    for i in range(2, n+1):\n",
    "        res = res * i\n",
    "         \n",
    "    return res"
   ],
   "outputs": [],
   "metadata": {}
  },
  {
   "cell_type": "code",
   "execution_count": 106,
   "source": [
    "def bates(array, n):\n",
    "    sng = 0\n",
    "    result = 0\n",
    "    X = np.average(array)\n",
    "    f = (n/fact(n-1))\n",
    "    for k in range(n+1):\n",
    "        if n*X < k:\n",
    "            sng = -1\n",
    "        if n*X == k:\n",
    "            sng = 0\n",
    "        if n*X > k:\n",
    "            sng = 1\n",
    "        result += ((-1)**k * nCr(n, k) * (n*X - k)**(n-1) * sng)\n",
    "    return [X,result*f]\n",
    "    "
   ],
   "outputs": [],
   "metadata": {}
  },
  {
   "cell_type": "code",
   "execution_count": 118,
   "source": [
    "a = []\n",
    "low = 0\n",
    "high = 100\n",
    "for i in range(int(len(allGen)/100)):\n",
    "    array = allGen_norm[low:high]\n",
    "    a.append(bates(array,100))\n",
    "    low += 100\n",
    "    high += 100\n"
   ],
   "outputs": [],
   "metadata": {}
  },
  {
   "cell_type": "code",
   "execution_count": 119,
   "source": [
    "a = np.matrix(a)\n",
    "plt.plot(a[:,0], a[:,1], \".\")"
   ],
   "outputs": [
    {
     "output_type": "execute_result",
     "data": {
      "text/plain": [
       "[<matplotlib.lines.Line2D at 0x7fb4713bc5b0>]"
      ]
     },
     "metadata": {},
     "execution_count": 119
    },
    {
     "output_type": "display_data",
     "data": {
      "image/png": "[encoded data removed]",
      "text/plain": [
       "<Figure size 540x252 with 1 Axes>"
      ]
     },
     "metadata": {
      "needs_background": "light"
     }
    }
   ],
   "metadata": {}
  }
 ],
 "metadata": {
  "orig_nbformat": 4,
  "language_info": {
   "name": "python",
   "version": "3.9.7",
   "mimetype": "text/x-python",
   "codemirror_mode": {
    "name": "ipython",
    "version": 3
   },
   "pygments_lexer": "ipython3",
   "nbconvert_exporter": "python",
   "file_extension": ".py"
  },
  "kernelspec": {
   "name": "python3",
   "display_name": "Python 3.9.7 64-bit"
  },
  "interpreter": {
   "hash": "aee8b7b246df8f9039afb4144a1f6fd8d2ca17a180786b69acc140d282b71a49"
  }
 },
 "nbformat": 4,
 "nbformat_minor": 2
}